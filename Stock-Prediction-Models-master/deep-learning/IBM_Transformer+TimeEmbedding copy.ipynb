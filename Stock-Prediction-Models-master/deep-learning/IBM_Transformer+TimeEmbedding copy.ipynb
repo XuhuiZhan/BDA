{
 "cells": [
  {
   "cell_type": "code",
   "execution_count": 1,
   "metadata": {
    "colab": {
     "base_uri": "https://localhost:8080/"
    },
    "id": "i6zxz6xZyWb2",
    "outputId": "d80a4b3f-7fb0-4e51-bfa6-879b0b1edefc"
   },
   "outputs": [
    {
     "name": "stdout",
     "output_type": "stream",
     "text": [
      "Tensorflow version: 2.0.0\n"
     ]
    },
    {
     "name": "stderr",
     "output_type": "stream",
     "text": [
      "2021-12-08 21:30:38.156324: I tensorflow/core/platform/cpu_feature_guard.cc:142] Your CPU supports instructions that this TensorFlow binary was not compiled to use: SSE4.1 SSE4.2 AVX AVX2 AVX512F FMA\n",
      "2021-12-08 21:30:38.192176: I tensorflow/core/platform/profile_utils/cpu_utils.cc:94] CPU Frequency: 2400000000 Hz\n",
      "2021-12-08 21:30:38.199595: I tensorflow/compiler/xla/service/service.cc:168] XLA service 0x556d59053600 executing computations on platform Host. Devices:\n",
      "2021-12-08 21:30:38.199646: I tensorflow/compiler/xla/service/service.cc:175]   StreamExecutor device (0): Host, Default Version\n",
      "2021-12-08 21:30:38.201366: I tensorflow/stream_executor/platform/default/dso_loader.cc:44] Successfully opened dynamic library libcuda.so.1\n",
      "2021-12-08 21:30:40.410855: I tensorflow/core/common_runtime/gpu/gpu_device.cc:1618] Found device 0 with properties: \n",
      "name: Tesla V100-SXM2-32GB major: 7 minor: 0 memoryClockRate(GHz): 1.53\n",
      "pciBusID: 0000:1b:00.0\n",
      "2021-12-08 21:30:40.417860: I tensorflow/core/common_runtime/gpu/gpu_device.cc:1618] Found device 1 with properties: \n",
      "name: Tesla V100-SXM2-32GB major: 7 minor: 0 memoryClockRate(GHz): 1.53\n",
      "pciBusID: 0000:1c:00.0\n",
      "2021-12-08 21:30:40.421242: I tensorflow/core/common_runtime/gpu/gpu_device.cc:1618] Found device 2 with properties: \n",
      "name: Tesla V100-SXM2-32GB major: 7 minor: 0 memoryClockRate(GHz): 1.53\n",
      "pciBusID: 0000:60:00.0\n",
      "2021-12-08 21:30:40.427432: I tensorflow/core/common_runtime/gpu/gpu_device.cc:1618] Found device 3 with properties: \n",
      "name: Tesla V100-SXM2-32GB major: 7 minor: 0 memoryClockRate(GHz): 1.53\n",
      "pciBusID: 0000:62:00.0\n",
      "2021-12-08 21:30:40.430417: I tensorflow/core/common_runtime/gpu/gpu_device.cc:1618] Found device 4 with properties: \n",
      "name: Tesla V100-SXM2-32GB major: 7 minor: 0 memoryClockRate(GHz): 1.53\n",
      "pciBusID: 0000:b1:00.0\n",
      "2021-12-08 21:30:40.433427: I tensorflow/core/common_runtime/gpu/gpu_device.cc:1618] Found device 5 with properties: \n",
      "name: Tesla V100-SXM2-32GB major: 7 minor: 0 memoryClockRate(GHz): 1.53\n",
      "pciBusID: 0000:b2:00.0\n",
      "2021-12-08 21:30:40.437296: I tensorflow/core/common_runtime/gpu/gpu_device.cc:1618] Found device 6 with properties: \n",
      "name: Tesla V100-SXM2-32GB major: 7 minor: 0 memoryClockRate(GHz): 1.53\n",
      "pciBusID: 0000:da:00.0\n",
      "2021-12-08 21:30:40.441450: I tensorflow/core/common_runtime/gpu/gpu_device.cc:1618] Found device 7 with properties: \n",
      "name: Tesla V100-SXM2-32GB major: 7 minor: 0 memoryClockRate(GHz): 1.53\n",
      "pciBusID: 0000:dc:00.0\n",
      "2021-12-08 21:30:40.441826: I tensorflow/stream_executor/platform/default/dso_loader.cc:44] Successfully opened dynamic library libcudart.so.10.0\n",
      "2021-12-08 21:30:40.443337: I tensorflow/stream_executor/platform/default/dso_loader.cc:44] Successfully opened dynamic library libcublas.so.10.0\n",
      "2021-12-08 21:30:40.444809: I tensorflow/stream_executor/platform/default/dso_loader.cc:44] Successfully opened dynamic library libcufft.so.10.0\n",
      "2021-12-08 21:30:40.445280: I tensorflow/stream_executor/platform/default/dso_loader.cc:44] Successfully opened dynamic library libcurand.so.10.0\n",
      "2021-12-08 21:30:40.447070: I tensorflow/stream_executor/platform/default/dso_loader.cc:44] Successfully opened dynamic library libcusolver.so.10.0\n",
      "2021-12-08 21:30:40.448434: I tensorflow/stream_executor/platform/default/dso_loader.cc:44] Successfully opened dynamic library libcusparse.so.10.0\n",
      "2021-12-08 21:30:40.452042: I tensorflow/stream_executor/platform/default/dso_loader.cc:44] Successfully opened dynamic library libcudnn.so.7\n",
      "2021-12-08 21:30:40.502843: I tensorflow/core/common_runtime/gpu/gpu_device.cc:1746] Adding visible gpu devices: 0, 1, 2, 3, 4, 5, 6, 7\n",
      "2021-12-08 21:30:40.502911: I tensorflow/stream_executor/platform/default/dso_loader.cc:44] Successfully opened dynamic library libcudart.so.10.0\n",
      "2021-12-08 21:30:40.520491: I tensorflow/core/common_runtime/gpu/gpu_device.cc:1159] Device interconnect StreamExecutor with strength 1 edge matrix:\n",
      "2021-12-08 21:30:40.520510: I tensorflow/core/common_runtime/gpu/gpu_device.cc:1165]      0 1 2 3 4 5 6 7 \n",
      "2021-12-08 21:30:40.520516: I tensorflow/core/common_runtime/gpu/gpu_device.cc:1178] 0:   N Y Y Y Y Y Y Y \n",
      "2021-12-08 21:30:40.520520: I tensorflow/core/common_runtime/gpu/gpu_device.cc:1178] 1:   Y N Y Y Y Y Y Y \n",
      "2021-12-08 21:30:40.520523: I tensorflow/core/common_runtime/gpu/gpu_device.cc:1178] 2:   Y Y N Y Y Y Y Y \n",
      "2021-12-08 21:30:40.520527: I tensorflow/core/common_runtime/gpu/gpu_device.cc:1178] 3:   Y Y Y N Y Y Y Y \n",
      "2021-12-08 21:30:40.520530: I tensorflow/core/common_runtime/gpu/gpu_device.cc:1178] 4:   Y Y Y Y N Y Y Y \n",
      "2021-12-08 21:30:40.520534: I tensorflow/core/common_runtime/gpu/gpu_device.cc:1178] 5:   Y Y Y Y Y N Y Y \n",
      "2021-12-08 21:30:40.520539: I tensorflow/core/common_runtime/gpu/gpu_device.cc:1178] 6:   Y Y Y Y Y Y N Y \n",
      "2021-12-08 21:30:40.520544: I tensorflow/core/common_runtime/gpu/gpu_device.cc:1178] 7:   Y Y Y Y Y Y Y N \n",
      "2021-12-08 21:30:40.537073: I tensorflow/core/common_runtime/gpu/gpu_device.cc:1304] Created TensorFlow device (/device:GPU:0 with 18743 MB memory) -> physical GPU (device: 0, name: Tesla V100-SXM2-32GB, pci bus id: 0000:1b:00.0, compute capability: 7.0)\n",
      "2021-12-08 21:30:40.541644: I tensorflow/core/common_runtime/gpu/gpu_device.cc:1304] Created TensorFlow device (/device:GPU:1 with 30581 MB memory) -> physical GPU (device: 1, name: Tesla V100-SXM2-32GB, pci bus id: 0000:1c:00.0, compute capability: 7.0)\n",
      "2021-12-08 21:30:40.543848: I tensorflow/core/common_runtime/gpu/gpu_device.cc:1304] Created TensorFlow device (/device:GPU:2 with 877 MB memory) -> physical GPU (device: 2, name: Tesla V100-SXM2-32GB, pci bus id: 0000:60:00.0, compute capability: 7.0)\n",
      "2021-12-08 21:30:40.548429: I tensorflow/core/common_runtime/gpu/gpu_device.cc:1304] Created TensorFlow device (/device:GPU:3 with 30576 MB memory) -> physical GPU (device: 3, name: Tesla V100-SXM2-32GB, pci bus id: 0000:62:00.0, compute capability: 7.0)\n",
      "2021-12-08 21:30:40.552652: I tensorflow/core/common_runtime/gpu/gpu_device.cc:1304] Created TensorFlow device (/device:GPU:4 with 30581 MB memory) -> physical GPU (device: 4, name: Tesla V100-SXM2-32GB, pci bus id: 0000:b1:00.0, compute capability: 7.0)\n",
      "2021-12-08 21:30:40.557025: I tensorflow/core/common_runtime/gpu/gpu_device.cc:1304] Created TensorFlow device (/device:GPU:5 with 30579 MB memory) -> physical GPU (device: 5, name: Tesla V100-SXM2-32GB, pci bus id: 0000:b2:00.0, compute capability: 7.0)\n",
      "2021-12-08 21:30:40.561268: I tensorflow/core/common_runtime/gpu/gpu_device.cc:1304] Created TensorFlow device (/device:GPU:6 with 30581 MB memory) -> physical GPU (device: 6, name: Tesla V100-SXM2-32GB, pci bus id: 0000:da:00.0, compute capability: 7.0)\n",
      "2021-12-08 21:30:40.565569: I tensorflow/core/common_runtime/gpu/gpu_device.cc:1304] Created TensorFlow device (/device:GPU:7 with 30581 MB memory) -> physical GPU (device: 7, name: Tesla V100-SXM2-32GB, pci bus id: 0000:dc:00.0, compute capability: 7.0)\n",
      "2021-12-08 21:30:40.568354: I tensorflow/compiler/xla/service/service.cc:168] XLA service 0x556d5d750910 executing computations on platform CUDA. Devices:\n",
      "2021-12-08 21:30:40.568372: I tensorflow/compiler/xla/service/service.cc:175]   StreamExecutor device (0): Tesla V100-SXM2-32GB, Compute Capability 7.0\n",
      "2021-12-08 21:30:40.568376: I tensorflow/compiler/xla/service/service.cc:175]   StreamExecutor device (1): Tesla V100-SXM2-32GB, Compute Capability 7.0\n",
      "2021-12-08 21:30:40.568380: I tensorflow/compiler/xla/service/service.cc:175]   StreamExecutor device (2): Tesla V100-SXM2-32GB, Compute Capability 7.0\n",
      "2021-12-08 21:30:40.568383: I tensorflow/compiler/xla/service/service.cc:175]   StreamExecutor device (3): Tesla V100-SXM2-32GB, Compute Capability 7.0\n",
      "2021-12-08 21:30:40.568387: I tensorflow/compiler/xla/service/service.cc:175]   StreamExecutor device (4): Tesla V100-SXM2-32GB, Compute Capability 7.0\n",
      "2021-12-08 21:30:40.568390: I tensorflow/compiler/xla/service/service.cc:175]   StreamExecutor device (5): Tesla V100-SXM2-32GB, Compute Capability 7.0\n",
      "2021-12-08 21:30:40.568395: I tensorflow/compiler/xla/service/service.cc:175]   StreamExecutor device (6): Tesla V100-SXM2-32GB, Compute Capability 7.0\n",
      "2021-12-08 21:30:40.568399: I tensorflow/compiler/xla/service/service.cc:175]   StreamExecutor device (7): Tesla V100-SXM2-32GB, Compute Capability 7.0\n",
      "2021-12-08 21:30:40.571528: I tensorflow/core/common_runtime/gpu/gpu_device.cc:1618] Found device 0 with properties: \n",
      "name: Tesla V100-SXM2-32GB major: 7 minor: 0 memoryClockRate(GHz): 1.53\n",
      "pciBusID: 0000:1b:00.0\n",
      "2021-12-08 21:30:40.573472: I tensorflow/core/common_runtime/gpu/gpu_device.cc:1618] Found device 1 with properties: \n",
      "name: Tesla V100-SXM2-32GB major: 7 minor: 0 memoryClockRate(GHz): 1.53\n",
      "pciBusID: 0000:1c:00.0\n",
      "2021-12-08 21:30:40.574368: I tensorflow/core/common_runtime/gpu/gpu_device.cc:1618] Found device 2 with properties: \n",
      "name: Tesla V100-SXM2-32GB major: 7 minor: 0 memoryClockRate(GHz): 1.53\n",
      "pciBusID: 0000:60:00.0\n",
      "2021-12-08 21:30:40.576325: I tensorflow/core/common_runtime/gpu/gpu_device.cc:1618] Found device 3 with properties: \n",
      "name: Tesla V100-SXM2-32GB major: 7 minor: 0 memoryClockRate(GHz): 1.53\n",
      "pciBusID: 0000:62:00.0\n",
      "2021-12-08 21:30:40.578910: I tensorflow/core/common_runtime/gpu/gpu_device.cc:1618] Found device 4 with properties: \n",
      "name: Tesla V100-SXM2-32GB major: 7 minor: 0 memoryClockRate(GHz): 1.53\n",
      "pciBusID: 0000:b1:00.0\n",
      "2021-12-08 21:30:40.581554: I tensorflow/core/common_runtime/gpu/gpu_device.cc:1618] Found device 5 with properties: \n",
      "name: Tesla V100-SXM2-32GB major: 7 minor: 0 memoryClockRate(GHz): 1.53\n",
      "pciBusID: 0000:b2:00.0\n",
      "2021-12-08 21:30:40.584215: I tensorflow/core/common_runtime/gpu/gpu_device.cc:1618] Found device 6 with properties: \n",
      "name: Tesla V100-SXM2-32GB major: 7 minor: 0 memoryClockRate(GHz): 1.53\n",
      "pciBusID: 0000:da:00.0\n",
      "2021-12-08 21:30:40.586836: I tensorflow/core/common_runtime/gpu/gpu_device.cc:1618] Found device 7 with properties: \n",
      "name: Tesla V100-SXM2-32GB major: 7 minor: 0 memoryClockRate(GHz): 1.53\n",
      "pciBusID: 0000:dc:00.0\n",
      "2021-12-08 21:30:40.586885: I tensorflow/stream_executor/platform/default/dso_loader.cc:44] Successfully opened dynamic library libcudart.so.10.0\n",
      "2021-12-08 21:30:40.586909: I tensorflow/stream_executor/platform/default/dso_loader.cc:44] Successfully opened dynamic library libcublas.so.10.0\n",
      "2021-12-08 21:30:40.586928: I tensorflow/stream_executor/platform/default/dso_loader.cc:44] Successfully opened dynamic library libcufft.so.10.0\n",
      "2021-12-08 21:30:40.586947: I tensorflow/stream_executor/platform/default/dso_loader.cc:44] Successfully opened dynamic library libcurand.so.10.0\n",
      "2021-12-08 21:30:40.586966: I tensorflow/stream_executor/platform/default/dso_loader.cc:44] Successfully opened dynamic library libcusolver.so.10.0\n",
      "2021-12-08 21:30:40.586985: I tensorflow/stream_executor/platform/default/dso_loader.cc:44] Successfully opened dynamic library libcusparse.so.10.0\n",
      "2021-12-08 21:30:40.587004: I tensorflow/stream_executor/platform/default/dso_loader.cc:44] Successfully opened dynamic library libcudnn.so.7\n"
     ]
    },
    {
     "name": "stdout",
     "output_type": "stream",
     "text": [
      "/device:GPU:0\n"
     ]
    },
    {
     "name": "stderr",
     "output_type": "stream",
     "text": [
      "2021-12-08 21:30:40.619514: I tensorflow/core/common_runtime/gpu/gpu_device.cc:1746] Adding visible gpu devices: 0, 1, 2, 3, 4, 5, 6, 7\n",
      "2021-12-08 21:30:40.620693: I tensorflow/core/common_runtime/gpu/gpu_device.cc:1159] Device interconnect StreamExecutor with strength 1 edge matrix:\n",
      "2021-12-08 21:30:40.620711: I tensorflow/core/common_runtime/gpu/gpu_device.cc:1165]      0 1 2 3 4 5 6 7 \n",
      "2021-12-08 21:30:40.620716: I tensorflow/core/common_runtime/gpu/gpu_device.cc:1178] 0:   N Y Y Y Y Y Y Y \n",
      "2021-12-08 21:30:40.620720: I tensorflow/core/common_runtime/gpu/gpu_device.cc:1178] 1:   Y N Y Y Y Y Y Y \n",
      "2021-12-08 21:30:40.620724: I tensorflow/core/common_runtime/gpu/gpu_device.cc:1178] 2:   Y Y N Y Y Y Y Y \n",
      "2021-12-08 21:30:40.620728: I tensorflow/core/common_runtime/gpu/gpu_device.cc:1178] 3:   Y Y Y N Y Y Y Y \n",
      "2021-12-08 21:30:40.620733: I tensorflow/core/common_runtime/gpu/gpu_device.cc:1178] 4:   Y Y Y Y N Y Y Y \n",
      "2021-12-08 21:30:40.620739: I tensorflow/core/common_runtime/gpu/gpu_device.cc:1178] 5:   Y Y Y Y Y N Y Y \n",
      "2021-12-08 21:30:40.620744: I tensorflow/core/common_runtime/gpu/gpu_device.cc:1178] 6:   Y Y Y Y Y Y N Y \n",
      "2021-12-08 21:30:40.620749: I tensorflow/core/common_runtime/gpu/gpu_device.cc:1178] 7:   Y Y Y Y Y Y Y N \n",
      "2021-12-08 21:30:40.636989: I tensorflow/core/common_runtime/gpu/gpu_device.cc:1304] Created TensorFlow device (/device:GPU:0 with 18743 MB memory) -> physical GPU (device: 0, name: Tesla V100-SXM2-32GB, pci bus id: 0000:1b:00.0, compute capability: 7.0)\n",
      "2021-12-08 21:30:40.639509: I tensorflow/core/common_runtime/gpu/gpu_device.cc:1304] Created TensorFlow device (/device:GPU:1 with 30581 MB memory) -> physical GPU (device: 1, name: Tesla V100-SXM2-32GB, pci bus id: 0000:1c:00.0, compute capability: 7.0)\n",
      "2021-12-08 21:30:40.640622: I tensorflow/core/common_runtime/gpu/gpu_device.cc:1304] Created TensorFlow device (/device:GPU:2 with 877 MB memory) -> physical GPU (device: 2, name: Tesla V100-SXM2-32GB, pci bus id: 0000:60:00.0, compute capability: 7.0)\n",
      "2021-12-08 21:30:40.643177: I tensorflow/core/common_runtime/gpu/gpu_device.cc:1304] Created TensorFlow device (/device:GPU:3 with 30576 MB memory) -> physical GPU (device: 3, name: Tesla V100-SXM2-32GB, pci bus id: 0000:62:00.0, compute capability: 7.0)\n",
      "2021-12-08 21:30:40.645737: I tensorflow/core/common_runtime/gpu/gpu_device.cc:1304] Created TensorFlow device (/device:GPU:4 with 30581 MB memory) -> physical GPU (device: 4, name: Tesla V100-SXM2-32GB, pci bus id: 0000:b1:00.0, compute capability: 7.0)\n",
      "2021-12-08 21:30:40.648314: I tensorflow/core/common_runtime/gpu/gpu_device.cc:1304] Created TensorFlow device (/device:GPU:5 with 30579 MB memory) -> physical GPU (device: 5, name: Tesla V100-SXM2-32GB, pci bus id: 0000:b2:00.0, compute capability: 7.0)\n",
      "2021-12-08 21:30:40.650315: I tensorflow/core/common_runtime/gpu/gpu_device.cc:1304] Created TensorFlow device (/device:GPU:6 with 30581 MB memory) -> physical GPU (device: 6, name: Tesla V100-SXM2-32GB, pci bus id: 0000:da:00.0, compute capability: 7.0)\n",
      "2021-12-08 21:30:40.652284: I tensorflow/core/common_runtime/gpu/gpu_device.cc:1304] Created TensorFlow device (/device:GPU:7 with 30581 MB memory) -> physical GPU (device: 7, name: Tesla V100-SXM2-32GB, pci bus id: 0000:dc:00.0, compute capability: 7.0)\n"
     ]
    },
    {
     "data": {
      "text/plain": [
       "True"
      ]
     },
     "execution_count": 1,
     "metadata": {},
     "output_type": "execute_result"
    }
   ],
   "source": [
    "import matplotlib.pyplot as plt\n",
    "import numpy as np\n",
    "import pandas as pd\n",
    "import os, datetime\n",
    "import tensorflow as tf\n",
    "from tensorflow.keras.models import *\n",
    "from tensorflow.keras.layers import *\n",
    "print('Tensorflow version: {}'.format(tf.__version__))\n",
    "\n",
    "\n",
    "plt.style.use('seaborn')\n",
    "\n",
    "import warnings\n",
    "warnings.filterwarnings('ignore')\n",
    "\n",
    "gpu_device_name = tf.test.gpu_device_name()\n",
    "print(gpu_device_name)\n",
    "tf.test.is_gpu_available()"
   ]
  },
  {
   "cell_type": "markdown",
   "metadata": {
    "id": "ykFSM9LT54LR"
   },
   "source": [
    "## Hyperparameters"
   ]
  },
  {
   "cell_type": "code",
   "execution_count": 2,
   "metadata": {},
   "outputs": [],
   "source": [
    "# import tushare as ts\n",
    "# pro = ts.pro_api('f198ddf6f6c8918413793b567bed6269e931f433abd746b26a3c2668')\n",
    "# dd = pro.daily(ts_code='000001.SZ', start_data='20180701', end_data='20201119')\n",
    "# dd.to_csv('pro001.csv')"
   ]
  },
  {
   "cell_type": "code",
   "execution_count": 3,
   "metadata": {
    "id": "Acgb31zy5lcD"
   },
   "outputs": [],
   "source": [
    "batch_size = 128\n",
    "seq_len = 128\n",
    "d_k = 32\n",
    "d_v = 32\n",
    "n_heads = 32\n",
    "ff_dim = 256"
   ]
  },
  {
   "cell_type": "markdown",
   "metadata": {
    "id": "HnPzNUPK50Ki"
   },
   "source": [
    "## Load Tesla data"
   ]
  },
  {
   "cell_type": "code",
   "execution_count": 4,
   "metadata": {
    "colab": {
     "base_uri": "https://localhost:8080/",
     "height": 202
    },
    "id": "jdi13JvV5ltd",
    "outputId": "c947f751-de26-49f7-8f9b-f53bc52574f6"
   },
   "outputs": [],
   "source": [
    "# TSLA_path = '../dataset/TSLA.csv'\n",
    "\n",
    "# df = pd.read_csv(TSLA_path, delimiter=',', usecols=['Date', 'Open', 'High', 'Low', 'Close','Adj Close','Volume'])\n",
    "\n",
    "# # Replace 0 to avoid dividing by 0 later on\n",
    "# df['Volume'].replace(to_replace=0, method='ffill', inplace=True) \n",
    "# df.sort_values('Date', inplace=True)\n",
    "# df.tail()"
   ]
  },
  {
   "cell_type": "code",
   "execution_count": 5,
   "metadata": {},
   "outputs": [],
   "source": [
    "# df.drop(labels='Adj Close',axis=1,inplace=True)\n",
    "# df.head()"
   ]
  },
  {
   "cell_type": "markdown",
   "metadata": {
    "id": "Caac4a66588l"
   },
   "source": [
    "## Plot daily Tesla closing prices and volume"
   ]
  },
  {
   "cell_type": "code",
   "execution_count": 6,
   "metadata": {
    "colab": {
     "base_uri": "https://localhost:8080/",
     "height": 637
    },
    "id": "JJ1tN1_k5lx2",
    "outputId": "1efdbdf0-3fef-4db4-b1db-1be2fb5bfe5d"
   },
   "outputs": [],
   "source": [
    "# fig = plt.figure(figsize=(15,10))\n",
    "# st = fig.suptitle(\"Tesla Close Price and Volume\", fontsize=20)\n",
    "# st.set_y(0.92)\n",
    "\n",
    "# ax1 = fig.add_subplot(211)\n",
    "# ax1.plot(df['Close'], label='Tesla Close Price')\n",
    "# ax1.set_xticks(range(0, df.shape[0], 1464))\n",
    "# ax1.set_xticklabels(df['Date'].loc[::1464])\n",
    "# ax1.set_ylabel('Close Price', fontsize=18)\n",
    "# ax1.legend(loc=\"upper left\", fontsize=12)\n",
    "\n",
    "# ax2 = fig.add_subplot(212)\n",
    "# ax2.plot(df['Volume'], label='Tesla Volume')\n",
    "# ax2.set_xticks(range(0, df.shape[0], 1464))\n",
    "# ax2.set_xticklabels(df['Date'].loc[::1464])\n",
    "# ax2.set_ylabel('Volume', fontsize=18)\n",
    "# ax2.legend(loc=\"upper left\", fontsize=12)"
   ]
  },
  {
   "cell_type": "markdown",
   "metadata": {
    "id": "fTS3Cm2H6GBz"
   },
   "source": [
    "## Calculate normalized percentage change of all columns"
   ]
  },
  {
   "cell_type": "code",
   "execution_count": null,
   "metadata": {},
   "outputs": [],
   "source": []
  },
  {
   "cell_type": "code",
   "execution_count": 7,
   "metadata": {
    "colab": {
     "base_uri": "https://localhost:8080/",
     "height": 255
    },
    "id": "i7_Uju9B5lqY",
    "outputId": "e56a1ca3-9c69-4ea4-ce2b-e1411c64452a"
   },
   "outputs": [],
   "source": [
    "# '''Calculate percentage change'''\n",
    "\n",
    "# # df['Open'] = df['Open'].pct_change() # Create arithmetic returns column\n",
    "# # df['High'] = df['High'].pct_change() # Create arithmetic returns column\n",
    "# # df['Low'] = df['Low'].pct_change() # Create arithmetic returns column\n",
    "# # df['Close'] = df['Close'].pct_change() # Create arithmetic returns column\n",
    "# # df['Volume'] = df['Volume'].pct_change()\n",
    "\n",
    "# df.dropna(how='any', axis=0, inplace=True) # Drop all rows with NaN values\n",
    "\n",
    "# ###############################################################################\n",
    "# '''Create indexes to split dataset'''\n",
    "\n",
    "# # times = sorted(df.index.values)\n",
    "# # last_10pct = sorted(df.index.values)[-int(0.1*len(times))] # Last 10% of series\n",
    "# # last_20pct = sorted(df.index.values)[-int(0.2*len(times))] # Last 20% of series\n",
    "\n",
    "# ###############################################################################\n",
    "# '''Normalize price columns'''\n",
    "# #\n",
    "# # min_return = min(df[(df.index < last_20pct)][['Open', 'High', 'Low', 'Close']].min(axis=0))\n",
    "# # max_return = max(df[(df.index < last_20pct)][['Open', 'High', 'Low', 'Close']].max(axis=0))\n",
    "\n",
    "# # Min-max normalize price columns (0-1 range)\n",
    "# # df['Open'] = (df['Open'] - min_return) / (max_return - min_return)\n",
    "# # df['High'] = (df['High'] - min_return) / (max_return - min_return)\n",
    "# # df['Low'] = (df['Low'] - min_return) / (max_return - min_return)\n",
    "# # df['Close'] = (df['Close'] - min_return) / (max_return - min_return)\n",
    "\n",
    "# ###############################################################################\n",
    "# '''Normalize volume column'''\n",
    "\n",
    "# # min_volume = df[(df.index < last_20pct)]['Volume'].min(axis=0)\n",
    "# # max_volume = df[(df.index < last_20pct)]['Volume'].max(axis=0)\n",
    "\n",
    "# # Min-max normalize volume columns (0-1 range)\n",
    "# # df['Volume'] = (df['Volume'] - min_volume) / (max_volume - min_volume)\n",
    "\n",
    "# ###############################################################################\n",
    "# '''Create training, validation and test split'''\n",
    "\n",
    "# df_train = df[(df.index < 221)]  # Training data are 80% of total data\n",
    "# # df_val = df[(df.index >= last_20pct) & (df.index < last_10pct)]\n",
    "# df_test = df\n",
    "\n",
    "# # Remove date column\n",
    "# df_train.drop(columns=['Date'], inplace=True)\n",
    "# # df_val.drop(columns=['Date'], inplace=True)\n",
    "# df_test.drop(columns=['Date'], inplace=True)\n",
    "\n",
    "# # Convert pandas columns into arrays\n",
    "# train_data = df_train.values\n",
    "# # val_data = df_val.values\n",
    "# test_data = df_test.values\n",
    "# print('Training data shape: {}'.format(train_data.shape))\n",
    "# # print('Validation data shape: {}'.format(val_data.shape))\n",
    "# print('Test data shape: {}'.format(test_data.shape))\n",
    "\n",
    "# df_train.head()"
   ]
  },
  {
   "cell_type": "markdown",
   "metadata": {
    "id": "diGgUw_f6fAI"
   },
   "source": [
    "## Plot daily changes of close prices and volume"
   ]
  },
  {
   "cell_type": "code",
   "execution_count": 8,
   "metadata": {
    "colab": {
     "base_uri": "https://localhost:8080/",
     "height": 792
    },
    "id": "MJCti1mt5lnL",
    "outputId": "810c6464-dc15-46a7-e45d-496b3a7e3b6e"
   },
   "outputs": [],
   "source": [
    "# fig = plt.figure(figsize=(15,12))\n",
    "# st = fig.suptitle(\"Data Separation\", fontsize=20)\n",
    "# st.set_y(0.95)\n",
    "\n",
    "# ###############################################################################\n",
    "\n",
    "# ax1 = fig.add_subplot(211)\n",
    "# ax1.plot(np.arange(train_data.shape[0]), df_train['Close'], label='Training data')\n",
    "\n",
    "# # ax1.plot(np.arange(train_data.shape[0], \n",
    "# #                    train_data.shape[0]+val_data.shape[0]), df_val['Close'], label='Validation data')\n",
    "\n",
    "# ax1.plot(np.arange(train_data.shape[0], \n",
    "#                    train_data.shape[0]+test_data.shape[0]), df_test['Close'], label='Test data')\n",
    "# ax1.set_xlabel('Date')\n",
    "# ax1.set_ylabel('Closing Returns')\n",
    "# ax1.set_title(\"Close Price\", fontsize=18)\n",
    "# ax1.legend(loc=\"best\", fontsize=12)\n",
    "\n",
    "# ###############################################################################\n",
    "\n",
    "# ax2 = fig.add_subplot(212)\n",
    "# ax2.plot(np.arange(train_data.shape[0]), df_train['Volume'], label='Training data')\n",
    "\n",
    "# # ax2.plot(np.arange(train_data.shape[0], \n",
    "# #                    train_data.shape[0]+val_data.shape[0]), df_val['Volume'], label='Validation data')\n",
    "\n",
    "# ax2.plot(np.arange(train_data.shape[0], \n",
    "#                    train_data.shape[0]+test_data.shape[0]), df_test['Volume'], label='Test data')\n",
    "# ax2.set_xlabel('Date')\n",
    "# ax2.set_ylabel('Normalized Volume Changes')\n",
    "# ax2.set_title(\"Volume\", fontsize=18)\n",
    "# ax2.legend(loc=\"best\", fontsize=12)"
   ]
  },
  {
   "cell_type": "markdown",
   "metadata": {
    "id": "K-9JDha_6l3L"
   },
   "source": [
    "## Create chunks of training, validation and test data"
   ]
  },
  {
   "cell_type": "code",
   "execution_count": 9,
   "metadata": {
    "colab": {
     "base_uri": "https://localhost:8080/",
     "height": 68
    },
    "id": "Ib8wOc-_5llL",
    "outputId": "74d3495e-68d3-441d-b050-ec8f134cf888"
   },
   "outputs": [],
   "source": [
    "# # Training data\n",
    "# X_train, y_train = [], []\n",
    "# for i in range(seq_len, len(train_data)):\n",
    "#   X_train.append(train_data[i-seq_len:i]) # Chunks of training data with a length of 128 df-rows\n",
    "#   y_train.append(train_data[:, 3][i]) #Value of 4th column (Close Price) of df-row 128+1\n",
    "# X_train, y_train = np.array(X_train), np.array(y_train)\n",
    "\n",
    "# ###############################################################################\n",
    "\n",
    "# # Validation data\n",
    "# # X_val, y_val = [], []\n",
    "# # for i in range(seq_len, len(val_data)):\n",
    "# #     X_val.append(val_data[i-seq_len:i])\n",
    "# #     y_val.append(val_data[:, 3][i])\n",
    "# # X_val, y_val = np.array(X_val), np.array(y_val)\n",
    "\n",
    "# ###############################################################################\n",
    "\n",
    "# # Test data\n",
    "# X_test, y_test = [], []\n",
    "# for i in range(seq_len, len(test_data)):\n",
    "#     X_test.append(test_data[i-seq_len:i])\n",
    "#     y_test.append(test_data[:, 3][i])    \n",
    "# X_test, y_test = np.array(X_test), np.array(y_test)\n",
    "\n",
    "# print('Training set shape', X_train.shape, y_train.shape)\n",
    "# # print('Validation set shape', X_val.shape, y_val.shape)\n",
    "# print('Testing set shape' ,X_test.shape, y_test.shape)"
   ]
  },
  {
   "cell_type": "code",
   "execution_count": 10,
   "metadata": {},
   "outputs": [],
   "source": [
    "# y_test,df.tail()"
   ]
  },
  {
   "cell_type": "markdown",
   "metadata": {
    "id": "5WhTPe6I6sDu"
   },
   "source": [
    "## TimeVector"
   ]
  },
  {
   "cell_type": "code",
   "execution_count": 11,
   "metadata": {
    "id": "dUawOlTD5ljR"
   },
   "outputs": [],
   "source": [
    "class Time2Vector(Layer):\n",
    "  def __init__(self, seq_len, **kwargs):\n",
    "    super(Time2Vector, self).__init__()\n",
    "    self.seq_len = seq_len\n",
    "\n",
    "  def build(self, input_shape):\n",
    "    '''Initialize weights and biases with shape (batch, seq_len)'''\n",
    "    self.weights_linear = self.add_weight(name='weight_linear',\n",
    "                                shape=(int(self.seq_len),),\n",
    "                                initializer='uniform',\n",
    "                                trainable=True)\n",
    "    \n",
    "    self.bias_linear = self.add_weight(name='bias_linear',\n",
    "                                shape=(int(self.seq_len),),\n",
    "                                initializer='uniform',\n",
    "                                trainable=True)\n",
    "    \n",
    "    self.weights_periodic = self.add_weight(name='weight_periodic',\n",
    "                                shape=(int(self.seq_len),),\n",
    "                                initializer='uniform',\n",
    "                                trainable=True)\n",
    "\n",
    "    self.bias_periodic = self.add_weight(name='bias_periodic',\n",
    "                                shape=(int(self.seq_len),),\n",
    "                                initializer='uniform',\n",
    "                                trainable=True)\n",
    "\n",
    "  def call(self, x):\n",
    "    '''Calculate linear and periodic time features'''\n",
    "    x = tf.math.reduce_mean(x[:,:,:4], axis=-1) \n",
    "    time_linear = self.weights_linear * x + self.bias_linear # Linear time feature\n",
    "    time_linear = tf.expand_dims(time_linear, axis=-1) # Add dimension (batch, seq_len, 1)\n",
    "    \n",
    "    time_periodic = tf.math.sin(tf.multiply(x, self.weights_periodic) + self.bias_periodic)\n",
    "    time_periodic = tf.expand_dims(time_periodic, axis=-1) # Add dimension (batch, seq_len, 1)\n",
    "    return tf.concat([time_linear, time_periodic], axis=-1) # shape = (batch, seq_len, 2)\n",
    "   \n",
    "  def get_config(self): # Needed for saving and loading model with custom layer\n",
    "    config = super().get_config().copy()\n",
    "    config.update({'seq_len': self.seq_len})\n",
    "    return config\n",
    "  "
   ]
  },
  {
   "cell_type": "markdown",
   "metadata": {
    "id": "hJZOW8d56wyJ"
   },
   "source": [
    "## Transformer"
   ]
  },
  {
   "cell_type": "code",
   "execution_count": 12,
   "metadata": {
    "id": "2Veb1wu_5lhE"
   },
   "outputs": [],
   "source": [
    "class SingleAttention(Layer):\n",
    "  def __init__(self, d_k, d_v):\n",
    "    super(SingleAttention, self).__init__()\n",
    "    self.d_k = d_k\n",
    "    self.d_v = d_v\n",
    "\n",
    "  def build(self, input_shape):\n",
    "    self.query = Dense(self.d_k, \n",
    "                       input_shape=input_shape, \n",
    "                       kernel_initializer='glorot_uniform', \n",
    "                       bias_initializer='glorot_uniform')\n",
    "    \n",
    "    self.key = Dense(self.d_k, \n",
    "                     input_shape=input_shape, \n",
    "                     kernel_initializer='glorot_uniform', \n",
    "                     bias_initializer='glorot_uniform')\n",
    "    \n",
    "    self.value = Dense(self.d_v, \n",
    "                       input_shape=input_shape, \n",
    "                       kernel_initializer='glorot_uniform', \n",
    "                       bias_initializer='glorot_uniform')\n",
    "\n",
    "  def call(self, inputs): # inputs = (in_seq, in_seq, in_seq)\n",
    "    q = self.query(inputs[0])\n",
    "    k = self.key(inputs[1])\n",
    "\n",
    "    attn_weights = tf.matmul(q, k, transpose_b=True)\n",
    "    attn_weights = tf.map_fn(lambda x: x/np.sqrt(self.d_k), attn_weights)\n",
    "    attn_weights = tf.nn.softmax(attn_weights, axis=-1)\n",
    "    \n",
    "    v = self.value(inputs[2])\n",
    "    attn_out = tf.matmul(attn_weights, v)\n",
    "    return attn_out    \n",
    "\n",
    "#############################################################################\n",
    "\n",
    "class MultiAttention(Layer):\n",
    "  def __init__(self, d_k, d_v, n_heads):\n",
    "    super(MultiAttention, self).__init__()\n",
    "    self.d_k = d_k\n",
    "    self.d_v = d_v\n",
    "    self.n_heads = n_heads\n",
    "    self.attn_heads = list()\n",
    "\n",
    "  def build(self, input_shape):\n",
    "    for n in range(self.n_heads):\n",
    "      self.attn_heads.append(SingleAttention(self.d_k, self.d_v))  \n",
    "    \n",
    "    # input_shape[0]=(batch, seq_len, 7), input_shape[0][-1]=7 \n",
    "    self.linear = Dense(input_shape[0][-1], \n",
    "                        input_shape=input_shape, \n",
    "                        kernel_initializer='glorot_uniform', \n",
    "                        bias_initializer='glorot_uniform')\n",
    "\n",
    "  def call(self, inputs):\n",
    "    attn = [self.attn_heads[i](inputs) for i in range(self.n_heads)]\n",
    "    concat_attn = tf.concat(attn, axis=-1)\n",
    "    multi_linear = self.linear(concat_attn)\n",
    "    return multi_linear   \n",
    "\n",
    "#############################################################################\n",
    "\n",
    "class TransformerEncoder(Layer):\n",
    "  def __init__(self, d_k, d_v, n_heads, ff_dim, dropout=0.1, **kwargs):\n",
    "    super(TransformerEncoder, self).__init__()\n",
    "    self.d_k = d_k\n",
    "    self.d_v = d_v\n",
    "    self.n_heads = n_heads\n",
    "    self.ff_dim = ff_dim\n",
    "    self.attn_heads = list()\n",
    "    self.dropout_rate = dropout\n",
    "\n",
    "  def build(self, input_shape):\n",
    "    self.attn_multi = MultiAttention(self.d_k, self.d_v, self.n_heads)\n",
    "    self.attn_dropout = Dropout(self.dropout_rate)\n",
    "    self.attn_normalize = LayerNormalization(input_shape=input_shape, epsilon=1e-6)\n",
    "\n",
    "    self.ff_conv1D_1 = Conv1D(filters=self.ff_dim, kernel_size=1, activation='relu')\n",
    "    # input_shape[0]=(batch, seq_len, 7), input_shape[0][-1] = 7 \n",
    "    self.ff_conv1D_se1 = Conv1D(filters=self.ff_dim//2, kernel_size=1)\n",
    "    self.ff_conv1D_se2 = Conv1D(filters=self.ff_dim, kernel_size=1,activation='sigmoid')\n",
    "    self.ff_conv1D_2 = Conv1D(filters=input_shape[0][-1], kernel_size=1) \n",
    "    self.ff_dropout = Dropout(self.dropout_rate)\n",
    "    self.ff_normalize = LayerNormalization(input_shape=input_shape, epsilon=1e-6)    \n",
    "  \n",
    "  def call(self, inputs): # inputs = (in_seq, in_seq, in_seq)\n",
    "    attn_layer = self.attn_multi(inputs)\n",
    "    attn_layer = self.attn_dropout(attn_layer)\n",
    "    attn_layer = self.attn_normalize(inputs[0] + attn_layer)\n",
    "\n",
    "    ff_layer = self.ff_conv1D_1(attn_layer)\n",
    "    aa_layer = self.ff_conv1D_se1(ff_layer)\n",
    "    aa_layer = self.ff_dropout(aa_layer)\n",
    "    aa_layer = self.ff_conv1D_se2(aa_layer)\n",
    "    aa_layer = self.ff_dropout(aa_layer)\n",
    "    ff_layer = aa_layer+ff_layer\n",
    "    ff_layer = self.ff_conv1D_2(ff_layer)\n",
    "    ff_layer = self.ff_dropout(ff_layer)\n",
    "    ff_layer = self.ff_normalize(inputs[0] + ff_layer)\n",
    "    return ff_layer \n",
    "\n",
    "  def get_config(self): # Needed for saving and loading model with custom layer\n",
    "    config = super().get_config().copy()\n",
    "    config.update({'d_k': self.d_k,\n",
    "                   'd_v': self.d_v,\n",
    "                   'n_heads': self.n_heads,\n",
    "                   'ff_dim': self.ff_dim,\n",
    "                   'attn_heads': self.attn_heads,\n",
    "                   'dropout_rate': self.dropout_rate})\n",
    "    return config          "
   ]
  },
  {
   "cell_type": "markdown",
   "metadata": {
    "id": "OtBanXmQB4jF"
   },
   "source": [
    "## Model"
   ]
  },
  {
   "cell_type": "code",
   "execution_count": 13,
   "metadata": {
    "colab": {
     "base_uri": "https://localhost:8080/",
     "height": 1000
    },
    "id": "n1z9GgwV5lZe",
    "outputId": "3a97e918-00c4-4aaf-c0d6-1fd821ce868c"
   },
   "outputs": [],
   "source": [
    "# def create_model():\n",
    "#   '''Initialize time and transformer layers'''\n",
    "#   time_embedding = Time2Vector(seq_len)\n",
    "#   attn_layer1 = TransformerEncoder(d_k, d_v, n_heads, ff_dim)\n",
    "#   attn_layer2 = TransformerEncoder(d_k, d_v, n_heads, ff_dim)\n",
    "#   attn_layer3 = TransformerEncoder(d_k, d_v, n_heads, ff_dim)\n",
    "\n",
    "#   '''Construct model'''\n",
    "#   in_seq = Input(shape=(seq_len, 5))\n",
    "#   x = time_embedding(in_seq)\n",
    "#   x = Concatenate(axis=-1)([in_seq, x])\n",
    "#   x = attn_layer1((x, x, x))\n",
    "#   x = attn_layer2((x, x, x))\n",
    "#   x = attn_layer3((x, x, x))\n",
    "#   x = GlobalAveragePooling1D(data_format='channels_first')(x)\n",
    "#   x = Dropout(0.1)(x)\n",
    "#   x = Dense(64, activation='relu')(x)\n",
    "#   x = Dropout(0.1)(x)\n",
    "#   out = Dense(1, activation='linear')(x)\n",
    "\n",
    "#   model = Model(inputs=in_seq, outputs=out)\n",
    "#   model.compile(loss='mse', optimizer='adam', metrics=['mae', 'mape'])\n",
    "#   return model\n",
    "\n",
    "\n",
    "# model = create_model()\n",
    "# model.summary()\n",
    "\n",
    "# # callback = tf.keras.callbacks.ModelCheckpoint('Transformer+TimeEmbedding.hdf5', \n",
    "# #                                               monitor=None, \n",
    "# #                                               save_best_only=False, verbose=1)\n",
    "\n",
    "# history = model.fit(X_train, y_train, \n",
    "#                     batch_size=batch_size, \n",
    "#                     epochs=500, )\n",
    "#                     # validation_data=(X_val, y_val)) \n",
    "# model.save('./Transformer+TimeEmbedding.hdf5')\n",
    "# model = tf.keras.models.load_model('./Transformer+TimeEmbedding.hdf5',\n",
    "#                                    custom_objects={'Time2Vector': Time2Vector, \n",
    "#                                                    'SingleAttention': SingleAttention,\n",
    "#                                                    'MultiAttention': MultiAttention,\n",
    "#                                                    'TransformerEncoder': TransformerEncoder})\n",
    "\n",
    "\n",
    "# ###############################################################################\n",
    "# '''Calculate predictions and metrics'''\n",
    "\n",
    "# #Calculate predication for training, validation and test data\n",
    "# train_pred = model.predict(X_train)\n",
    "# # val_pred = model.predict(X_val)\n",
    "# test_pred = model.predict(X_test)\n",
    "\n",
    "# #Print evaluation metrics for all datasets\n",
    "# train_eval = model.evaluate(X_train, y_train, verbose=0)\n",
    "# # val_eval = model.evaluate(X_val, y_val, verbose=0)\n",
    "# test_eval = model.evaluate(X_test, y_test, verbose=0)\n",
    "# print(' ')\n",
    "# print('Evaluation metrics')\n",
    "# print('Training Data - Loss: {:.4f}, MAE: {:.4f}, MAPE: {:.4f}'.format(train_eval[0], train_eval[1], train_eval[2]))\n",
    "# # print('Validation Data - Loss: {:.4f}, MAE: {:.4f}, MAPE: {:.4f}'.format(val_eval[0], val_eval[1], val_eval[2]))\n",
    "# print('Test Data - Loss: {:.4f}, MAE: {:.4f}, MAPE: {:.4f}'.format(test_eval[0], test_eval[1], test_eval[2]))\n",
    "\n",
    "# ###############################################################################\n",
    "# '''Display results'''\n",
    "\n",
    "# fig = plt.figure(figsize=(15,20))\n",
    "# st = fig.suptitle(\"Transformer + TimeEmbedding Model\", fontsize=22)\n",
    "# st.set_y(0.92)\n",
    "\n",
    "# #Plot training data results\n",
    "# ax11 = fig.add_subplot(311)\n",
    "# ax11.plot(train_data[:, 3], label='Tesla Closing Returns')\n",
    "# ax11.plot(np.arange(seq_len, train_pred.shape[0]+seq_len), train_pred, linewidth=3, label='Predicted Tesla Closing Returns')\n",
    "# ax11.set_title(\"Training Data\", fontsize=18)\n",
    "# ax11.set_xlabel('Date')\n",
    "# ax11.set_ylabel('Tesla Closing Returns')\n",
    "# ax11.legend(loc=\"best\", fontsize=12)\n",
    "\n",
    "# # #Plot validation data results\n",
    "# # ax21 = fig.add_subplot(312)\n",
    "# # ax21.plot(val_data[:, 3], label='Tesla Closing Returns')\n",
    "# # ax21.plot(np.arange(seq_len, val_pred.shape[0]+seq_len), val_pred, linewidth=3, label='Predicted Tesla Closing Returns')\n",
    "# # ax21.set_title(\"Validation Data\", fontsize=18)\n",
    "# # ax21.set_xlabel('Date')\n",
    "# # ax21.set_ylabel('Tesla Closing Returns')\n",
    "# # ax21.legend(loc=\"best\", fontsize=12)\n",
    "\n",
    "# #Plot test data results\n",
    "# ax31 = fig.add_subplot(313)\n",
    "# ax31.plot(test_data[:, 3], label='Tesla Closing Returns')\n",
    "# ax31.plot(np.arange(seq_len, test_pred.shape[0]+seq_len), test_pred, linewidth=3, label='Predicted Tesla Closing Returns')\n",
    "# ax31.set_title(\"Test Data\", fontsize=18)\n",
    "# ax31.set_xlabel('Date')\n",
    "# ax31.set_ylabel('Tesla Closing Returns')\n",
    "# ax31.legend(loc=\"best\", fontsize=12)"
   ]
  },
  {
   "cell_type": "markdown",
   "metadata": {
    "id": "QiCB_z-iCMMr"
   },
   "source": [
    "## Model metrics"
   ]
  },
  {
   "cell_type": "code",
   "execution_count": 14,
   "metadata": {
    "colab": {
     "base_uri": "https://localhost:8080/",
     "height": 1000
    },
    "id": "maSSTkJPCOE8",
    "outputId": "5a802a5b-bfc7-47c0-987a-8fca1ab84226"
   },
   "outputs": [],
   "source": [
    "# '''Display model metrics'''\n",
    "\n",
    "# fig = plt.figure(figsize=(15,20))\n",
    "# st = fig.suptitle(\"Transformer + TimeEmbedding Model Metrics\", fontsize=22)\n",
    "# st.set_y(0.92)\n",
    "\n",
    "# #Plot model loss\n",
    "# ax1 = fig.add_subplot(311)\n",
    "# ax1.plot(history.history['loss'], label='Training loss (MSE)')\n",
    "# # ax1.plot(history.history['val_loss'], label='Validation loss (MSE)')\n",
    "# ax1.set_title(\"Model loss\", fontsize=18)\n",
    "# ax1.set_xlabel('Epoch')\n",
    "# ax1.set_ylabel('Loss (MSE)')\n",
    "# ax1.legend(loc=\"best\", fontsize=12)\n",
    "\n",
    "# #Plot MAE\n",
    "# ax2 = fig.add_subplot(312)\n",
    "# ax2.plot(history.history['mae'], label='Training MAE')\n",
    "# # ax2.plot(history.history['val_mae'], label='Validation MAE')\n",
    "# ax2.set_title(\"Model metric - Mean average error (MAE)\", fontsize=18)\n",
    "# ax2.set_xlabel('Epoch')\n",
    "# ax2.set_ylabel('Mean average error (MAE)')\n",
    "# ax2.legend(loc=\"best\", fontsize=12)\n",
    "\n",
    "# #Plot MAPE\n",
    "# ax3 = fig.add_subplot(313)\n",
    "# ax3.plot(history.history['mape'], label='Training MAPE')\n",
    "# # ax3.plot(history.history['val_mape'], label='Validation MAPE')\n",
    "# ax3.set_title(\"Model metric - Mean average percentage error (MAPE)\", fontsize=18)\n",
    "# ax3.set_xlabel('Epoch')\n",
    "# ax3.set_ylabel('Mean average percentage error (MAPE)')\n",
    "# ax3.legend(loc=\"best\", fontsize=12)"
   ]
  },
  {
   "cell_type": "markdown",
   "metadata": {
    "id": "5cvzV1ArCOwK"
   },
   "source": [
    "## Model architecture overview"
   ]
  },
  {
   "cell_type": "code",
   "execution_count": 15,
   "metadata": {
    "colab": {
     "base_uri": "https://localhost:8080/",
     "height": 1000
    },
    "id": "7b--iZiKCO5l",
    "outputId": "fa273886-666a-4ead-8d9e-e12083d4907b"
   },
   "outputs": [],
   "source": [
    "# tf.keras.utils.plot_model(\n",
    "#     model,\n",
    "#     to_file=\"Tesla_Transformer+TimeEmbedding.png\",\n",
    "#     show_shapes=True,\n",
    "#     show_layer_names=True,\n",
    "#     expand_nested=True,\n",
    "#     dpi=96,)"
   ]
  },
  {
   "cell_type": "markdown",
   "metadata": {
    "id": "SXm-L7Y7SXY4"
   },
   "source": [
    "# Moving Average"
   ]
  },
  {
   "cell_type": "markdown",
   "metadata": {
    "id": "fWDD3gi0SkBT"
   },
   "source": [
    "## Moving Average - Load Tesla data again, to apply rolling window"
   ]
  },
  {
   "cell_type": "code",
   "execution_count": 16,
   "metadata": {},
   "outputs": [],
   "source": [
    "# test_size = 30"
   ]
  },
  {
   "cell_type": "code",
   "execution_count": 17,
   "metadata": {},
   "outputs": [],
   "source": [
    "# from sklearn.preprocessing import MinMaxScaler\n",
    "# Tesla_path = '../dataset/TSLA.csv'\n",
    "# df = pd.read_csv(Tesla_path, delimiter=',', usecols=['Date', 'Open', 'High', 'Low', 'Close','Adj Close','Volume'])\n",
    "# df.head()\n",
    "\n",
    "\n"
   ]
  },
  {
   "cell_type": "code",
   "execution_count": 18,
   "metadata": {},
   "outputs": [],
   "source": [
    "# minmax = MinMaxScaler().fit(df.iloc[:, 4:5].astype('float32')) # Close index\n",
    "# df_log = minmax.transform(df.iloc[:, 4:5].astype('float32')) # Close index\n",
    "# df_log = pd.DataFrame(df_log)\n",
    "# df_log.head()"
   ]
  },
  {
   "cell_type": "code",
   "execution_count": 19,
   "metadata": {},
   "outputs": [],
   "source": [
    "# df_train = df_log.iloc[:-test_size]\n",
    "# df_test = df_log.iloc[-test_size:]\n",
    "# df.shape, df_train.shape, df_test.shape"
   ]
  },
  {
   "cell_type": "code",
   "execution_count": 20,
   "metadata": {},
   "outputs": [
    {
     "data": {
      "text/html": [
       "<div>\n",
       "<style scoped>\n",
       "    .dataframe tbody tr th:only-of-type {\n",
       "        vertical-align: middle;\n",
       "    }\n",
       "\n",
       "    .dataframe tbody tr th {\n",
       "        vertical-align: top;\n",
       "    }\n",
       "\n",
       "    .dataframe thead th {\n",
       "        text-align: right;\n",
       "    }\n",
       "</style>\n",
       "<table border=\"1\" class=\"dataframe\">\n",
       "  <thead>\n",
       "    <tr style=\"text-align: right;\">\n",
       "      <th></th>\n",
       "      <th>Date</th>\n",
       "      <th>Open</th>\n",
       "      <th>High</th>\n",
       "      <th>Low</th>\n",
       "      <th>Close</th>\n",
       "      <th>pre_close</th>\n",
       "      <th>change</th>\n",
       "      <th>pct_chg</th>\n",
       "      <th>Volume</th>\n",
       "      <th>amount</th>\n",
       "    </tr>\n",
       "  </thead>\n",
       "  <tbody>\n",
       "    <tr>\n",
       "      <th>3998</th>\n",
       "      <td>20041115</td>\n",
       "      <td>7.02</td>\n",
       "      <td>7.20</td>\n",
       "      <td>7.02</td>\n",
       "      <td>7.10</td>\n",
       "      <td>7.01</td>\n",
       "      <td>0.09</td>\n",
       "      <td>1.28</td>\n",
       "      <td>32894.90</td>\n",
       "      <td>23379.8239</td>\n",
       "    </tr>\n",
       "    <tr>\n",
       "      <th>3997</th>\n",
       "      <td>20041116</td>\n",
       "      <td>7.13</td>\n",
       "      <td>7.25</td>\n",
       "      <td>7.12</td>\n",
       "      <td>7.20</td>\n",
       "      <td>7.10</td>\n",
       "      <td>0.10</td>\n",
       "      <td>1.41</td>\n",
       "      <td>51791.08</td>\n",
       "      <td>37169.8243</td>\n",
       "    </tr>\n",
       "    <tr>\n",
       "      <th>3996</th>\n",
       "      <td>20041117</td>\n",
       "      <td>7.21</td>\n",
       "      <td>7.25</td>\n",
       "      <td>7.05</td>\n",
       "      <td>7.07</td>\n",
       "      <td>7.20</td>\n",
       "      <td>-0.13</td>\n",
       "      <td>-1.81</td>\n",
       "      <td>26569.19</td>\n",
       "      <td>18883.9097</td>\n",
       "    </tr>\n",
       "    <tr>\n",
       "      <th>3995</th>\n",
       "      <td>20041118</td>\n",
       "      <td>7.08</td>\n",
       "      <td>7.20</td>\n",
       "      <td>7.04</td>\n",
       "      <td>7.19</td>\n",
       "      <td>7.07</td>\n",
       "      <td>0.12</td>\n",
       "      <td>1.70</td>\n",
       "      <td>30271.50</td>\n",
       "      <td>21573.2982</td>\n",
       "    </tr>\n",
       "    <tr>\n",
       "      <th>3994</th>\n",
       "      <td>20041119</td>\n",
       "      <td>7.22</td>\n",
       "      <td>7.50</td>\n",
       "      <td>7.22</td>\n",
       "      <td>7.41</td>\n",
       "      <td>7.19</td>\n",
       "      <td>0.22</td>\n",
       "      <td>3.06</td>\n",
       "      <td>149050.44</td>\n",
       "      <td>109945.7193</td>\n",
       "    </tr>\n",
       "  </tbody>\n",
       "</table>\n",
       "</div>"
      ],
      "text/plain": [
       "          Date  Open  High   Low  Close  pre_close  change  pct_chg  \\\n",
       "3998  20041115  7.02  7.20  7.02   7.10       7.01    0.09     1.28   \n",
       "3997  20041116  7.13  7.25  7.12   7.20       7.10    0.10     1.41   \n",
       "3996  20041117  7.21  7.25  7.05   7.07       7.20   -0.13    -1.81   \n",
       "3995  20041118  7.08  7.20  7.04   7.19       7.07    0.12     1.70   \n",
       "3994  20041119  7.22  7.50  7.22   7.41       7.19    0.22     3.06   \n",
       "\n",
       "         Volume       amount  \n",
       "3998   32894.90   23379.8239  \n",
       "3997   51791.08   37169.8243  \n",
       "3996   26569.19   18883.9097  \n",
       "3995   30271.50   21573.2982  \n",
       "3994  149050.44  109945.7193  "
      ]
     },
     "execution_count": 20,
     "metadata": {},
     "output_type": "execute_result"
    }
   ],
   "source": [
    "Tesla_path = '/home/changjiang_2/BDA/Stock-Prediction-Models-master/deep-learning/pro001.csv'\n",
    "df = pd.read_csv(Tesla_path, delimiter=',', usecols=['ts_code','Date','Open','High','Low','Close','pre_close','change','pct_chg','Volume','amount'])\n",
    "df['Volume'].replace(to_replace=0, method='ffill', inplace=True)\n",
    "df['pct_chg'].replace(to_replace=0, method='ffill', inplace=True)\n",
    "df['change'].replace(to_replace=0, method='ffill', inplace=True)\n",
    "df['amount'].replace(to_replace=0, method='ffill', inplace=True)\n",
    "df.sort_values('Date', inplace=True)\n",
    "df.drop(labels='ts_code',axis=1,inplace=True)\n",
    "# df.drop(labels='pre_close',axis=1,inplace=True)\n",
    "# df.drop(labels='pct_chg',axis=1,inplace=True)\n",
    "# df.drop(labels='change',axis=1,inplace=True)\n",
    "# df.drop(labels='amount',axis=1,inplace=True)\n",
    "# df[['Open', 'High', 'Low', 'Close','Volume']] = df[['Open', 'High', 'Low', 'Close','Volume']].rolling(10).mean()\n",
    "# df.drop('index')\n",
    "df.dropna(how='any', axis=0, inplace=True) \n",
    "df.head()"
   ]
  },
  {
   "cell_type": "code",
   "execution_count": 21,
   "metadata": {
    "colab": {
     "base_uri": "https://localhost:8080/",
     "height": 202
    },
    "id": "I6ShhyS6Sajz",
    "outputId": "c9f3e294-d45f-4587-938b-0d00017e75e0"
   },
   "outputs": [],
   "source": [
    "# Tesla_path = '../dataset/TSLA.csv'\n",
    "\n",
    "# df = pd.read_csv(Tesla_path, delimiter=',', usecols=['Date', 'Open', 'High', 'Low', 'Close','Adj Close','Volume'])\n",
    "# df.drop(labels='Adj Close',axis=1,inplace=True)\n",
    "# # Replace 0 to avoid dividing by 0 later on\n",
    "# df['Volume'].replace(to_replace=0, method='ffill', inplace=True) \n",
    "# df.sort_values('Date', inplace=True)\n",
    "\n",
    "# # Apply moving average with a window of 10 days to all columns\n",
    "# df[['Open', 'High', 'Low', 'Close','Volume']] = df[['Open', 'High', 'Low', 'Close','Volume']].rolling(10).mean() \n",
    "\n",
    "# # Drop all rows with NaN values\n",
    "# df.dropna(how='any', axis=0, inplace=True) \n",
    "# df.head()"
   ]
  },
  {
   "cell_type": "markdown",
   "metadata": {
    "id": "Qh7gRX0FS-xZ"
   },
   "source": [
    "## Moving Average - Plot daily Tesla closing prices and volume"
   ]
  },
  {
   "cell_type": "code",
   "execution_count": 22,
   "metadata": {
    "colab": {
     "base_uri": "https://localhost:8080/",
     "height": 637
    },
    "id": "JT97nI1sSafp",
    "outputId": "5f49e92f-9ba3-4eda-f7b1-9f33e7ebe028"
   },
   "outputs": [
    {
     "data": {
      "text/plain": [
       "<matplotlib.legend.Legend at 0x7f4b041d2e10>"
      ]
     },
     "execution_count": 22,
     "metadata": {},
     "output_type": "execute_result"
    },
    {
     "data": {
      "image/png": "[encoded data removed]",
      "text/plain": [
       "<Figure size 1080x720 with 2 Axes>"
      ]
     },
     "metadata": {},
     "output_type": "display_data"
    }
   ],
   "source": [
    "fig = plt.figure(figsize=(15,10))\n",
    "st = fig.suptitle(\"Tesla Close Price and Volume\", fontsize=20)\n",
    "st.set_y(0.92)\n",
    "\n",
    "ax1 = fig.add_subplot(211)\n",
    "ax1.plot(df['Close'], label='Tesla Close Price')\n",
    "ax1.set_xticks(range(0, df.shape[0], 30))\n",
    "ax1.set_xticklabels(df['Date'].loc[::30])\n",
    "ax1.set_ylabel('Close Price', fontsize=18)\n",
    "ax1.legend(loc=\"upper left\", fontsize=12)\n",
    "\n",
    "ax2 = fig.add_subplot(212)\n",
    "ax2.plot(df['Volume'], label='Tesla Volume')\n",
    "ax2.set_xticks(range(0, df.shape[0], 30))\n",
    "ax2.set_xticklabels(df['Date'].loc[::30])\n",
    "ax2.set_ylabel('Volume', fontsize=18)\n",
    "ax2.legend(loc=\"upper left\", fontsize=12)"
   ]
  },
  {
   "cell_type": "markdown",
   "metadata": {
    "id": "WaGiU_wgTYqu"
   },
   "source": [
    "## Moving Average - Calculate normalized percentage change for all columns"
   ]
  },
  {
   "cell_type": "code",
   "execution_count": 23,
   "metadata": {
    "colab": {
     "base_uri": "https://localhost:8080/",
     "height": 255
    },
    "id": "xOQVdn5TSaZs",
    "outputId": "e5a2ec9e-2f3a-4e03-b545-a0d5172acaea"
   },
   "outputs": [
    {
     "name": "stdout",
     "output_type": "stream",
     "text": [
      "Training data shape: (3200, 9)\n",
      "Test data shape: (399, 9)\n",
      "       Open   High    Low  Close  pre_close  change  pct_chg     Volume  \\\n",
      "3199  25.30  25.43  24.65  24.75      25.21   -0.46    -1.82   76340.01   \n",
      "3198  23.30  23.30  22.28  22.28      24.75   -2.47    -9.98  175271.41   \n",
      "3197  21.85  22.18  21.16  21.20      22.28   -1.08    -4.85  189952.64   \n",
      "3196  21.10  21.40  20.65  21.18      21.20   -0.02    -0.09  142908.13   \n",
      "3195  21.25  22.10  20.88  21.58      21.18    0.40     1.89  106273.05   \n",
      "\n",
      "           amount  \n",
      "3199  190255.2004  \n",
      "3198  396986.1647  \n",
      "3197  410763.5412  \n",
      "3196  300625.9981  \n",
      "3195  228695.9845  \n",
      "      Open  High   Low  Close  pre_close  change  pct_chg     Volume  \\\n",
      "3599  7.29  7.39  7.16   7.21       7.28   -0.07    -0.96  104885.29   \n",
      "3598  7.21  7.25  7.15   7.21       7.21    0.02     0.28   51177.94   \n",
      "3597  7.21  7.33  7.16   7.23       7.21    0.02     0.28   72032.89   \n",
      "3596  7.21  7.23  7.01   7.06       7.23   -0.17    -2.35   61895.79   \n",
      "3595  7.06  7.12  7.04   7.10       7.06    0.04     0.57   46042.99   \n",
      "\n",
      "          amount  \n",
      "3599  76297.6951  \n",
      "3598  36871.5340  \n",
      "3597  52130.8823  \n",
      "3596  43900.4161  \n",
      "3595  32643.3380  \n"
     ]
    },
    {
     "data": {
      "text/html": [
       "<div>\n",
       "<style scoped>\n",
       "    .dataframe tbody tr th:only-of-type {\n",
       "        vertical-align: middle;\n",
       "    }\n",
       "\n",
       "    .dataframe tbody tr th {\n",
       "        vertical-align: top;\n",
       "    }\n",
       "\n",
       "    .dataframe thead th {\n",
       "        text-align: right;\n",
       "    }\n",
       "</style>\n",
       "<table border=\"1\" class=\"dataframe\">\n",
       "  <thead>\n",
       "    <tr style=\"text-align: right;\">\n",
       "      <th></th>\n",
       "      <th>Open</th>\n",
       "      <th>High</th>\n",
       "      <th>Low</th>\n",
       "      <th>Close</th>\n",
       "      <th>pre_close</th>\n",
       "      <th>change</th>\n",
       "      <th>pct_chg</th>\n",
       "      <th>Volume</th>\n",
       "      <th>amount</th>\n",
       "    </tr>\n",
       "  </thead>\n",
       "  <tbody>\n",
       "    <tr>\n",
       "      <th>3998</th>\n",
       "      <td>7.02</td>\n",
       "      <td>7.20</td>\n",
       "      <td>7.02</td>\n",
       "      <td>7.10</td>\n",
       "      <td>7.01</td>\n",
       "      <td>0.09</td>\n",
       "      <td>1.28</td>\n",
       "      <td>32894.90</td>\n",
       "      <td>23379.8239</td>\n",
       "    </tr>\n",
       "    <tr>\n",
       "      <th>3997</th>\n",
       "      <td>7.13</td>\n",
       "      <td>7.25</td>\n",
       "      <td>7.12</td>\n",
       "      <td>7.20</td>\n",
       "      <td>7.10</td>\n",
       "      <td>0.10</td>\n",
       "      <td>1.41</td>\n",
       "      <td>51791.08</td>\n",
       "      <td>37169.8243</td>\n",
       "    </tr>\n",
       "    <tr>\n",
       "      <th>3996</th>\n",
       "      <td>7.21</td>\n",
       "      <td>7.25</td>\n",
       "      <td>7.05</td>\n",
       "      <td>7.07</td>\n",
       "      <td>7.20</td>\n",
       "      <td>-0.13</td>\n",
       "      <td>-1.81</td>\n",
       "      <td>26569.19</td>\n",
       "      <td>18883.9097</td>\n",
       "    </tr>\n",
       "    <tr>\n",
       "      <th>3995</th>\n",
       "      <td>7.08</td>\n",
       "      <td>7.20</td>\n",
       "      <td>7.04</td>\n",
       "      <td>7.19</td>\n",
       "      <td>7.07</td>\n",
       "      <td>0.12</td>\n",
       "      <td>1.70</td>\n",
       "      <td>30271.50</td>\n",
       "      <td>21573.2982</td>\n",
       "    </tr>\n",
       "    <tr>\n",
       "      <th>3994</th>\n",
       "      <td>7.22</td>\n",
       "      <td>7.50</td>\n",
       "      <td>7.22</td>\n",
       "      <td>7.41</td>\n",
       "      <td>7.19</td>\n",
       "      <td>0.22</td>\n",
       "      <td>3.06</td>\n",
       "      <td>149050.44</td>\n",
       "      <td>109945.7193</td>\n",
       "    </tr>\n",
       "  </tbody>\n",
       "</table>\n",
       "</div>"
      ],
      "text/plain": [
       "      Open  High   Low  Close  pre_close  change  pct_chg     Volume  \\\n",
       "3998  7.02  7.20  7.02   7.10       7.01    0.09     1.28   32894.90   \n",
       "3997  7.13  7.25  7.12   7.20       7.10    0.10     1.41   51791.08   \n",
       "3996  7.21  7.25  7.05   7.07       7.20   -0.13    -1.81   26569.19   \n",
       "3995  7.08  7.20  7.04   7.19       7.07    0.12     1.70   30271.50   \n",
       "3994  7.22  7.50  7.22   7.41       7.19    0.22     3.06  149050.44   \n",
       "\n",
       "           amount  \n",
       "3998   23379.8239  \n",
       "3997   37169.8243  \n",
       "3996   18883.9097  \n",
       "3995   21573.2982  \n",
       "3994  109945.7193  "
      ]
     },
     "execution_count": 23,
     "metadata": {},
     "output_type": "execute_result"
    }
   ],
   "source": [
    "# '''Calculate percentage change'''\n",
    "\n",
    "# # df['Open'] = df['Open'].pct_change() # Create arithmetic returns column\n",
    "# # df['High'] = df['High'].pct_change() # Create arithmetic returns column\n",
    "# # df['Low'] = df['Low'].pct_change()# Create arithmetic returns column\n",
    "# # df['Close'] = df['Close'].pct_change() # Create arithmetic returns column\n",
    "# # df['Volume'] = df['Volume'].pct_change()\n",
    "\n",
    "# df.dropna(how='any', axis=0, inplace=True) # Drop all rows with NaN values\n",
    "\n",
    "# ###############################################################################\n",
    "# '''Create indexes to split dataset'''\n",
    "\n",
    "times = sorted(df.index.values)\n",
    "last_10pct = sorted(df.index.values)[-int(0.1*len(times))] # Last 10% of series\n",
    "last_20pct = sorted(df.index.values)[-int(0.2*len(times))] # Last 20% of series\n",
    "\n",
    "# ###############################################################################\n",
    "# '''Normalize price columns'''\n",
    "# #\n",
    "# min_return = min(df[(df.index < last_20pct)][['Open', 'High', 'Low', 'Close']].min(axis=0))\n",
    "# max_return = max(df[(df.index < last_20pct)][['Open', 'High', 'Low', 'Close']].max(axis=0))\n",
    "\n",
    "# # Min-max normalize price columns (0-1 range)\n",
    "# df['Open'] = (df['Open'] - min_return) / (max_return - min_return)\n",
    "# df['High'] = (df['High'] - min_return) / (max_return - min_return)\n",
    "# df['Low'] = (df['Low'] - min_return) / (max_return - min_return)\n",
    "# df['Close'] = (df['Close'] - min_return) / (max_return - min_return)\n",
    "\n",
    "# ###############################################################################\n",
    "# '''Normalize volume column'''\n",
    "\n",
    "# min_volume = df[(df.index < last_20pct)]['Volume'].min(axis=0)\n",
    "# max_volume = df[(df.index < last_20pct)]['Volume'].max(axis=0)\n",
    "\n",
    "# # Min-max normalize volume columns (0-1 range)\n",
    "# df['Volume'] = (df['Volume'] - min_volume) / (max_volume - min_volume)\n",
    "\n",
    "###############################################################################\n",
    "'''Create training, validation and test split'''\n",
    "\n",
    "df_train = df[df.index<last_20pct] # Training data are 80% of total data\n",
    "df_val = df[(df.index >= last_20pct) & (df.index < last_10pct)]\n",
    "df_test = df[df.index>=last_10pct]\n",
    "\n",
    "# Remove date column\n",
    "df_train.drop(columns=['Date'], inplace=True)\n",
    "df_val.drop(columns=['Date'], inplace=True)\n",
    "df_test.drop(columns=['Date'], inplace=True)\n",
    "\n",
    "# Convert pandas columns into arrays\n",
    "train_data = df_train.values\n",
    "val_data = df_val.values\n",
    "test_data = df_test.values\n",
    "print('Training data shape: {}'.format(train_data.shape))\n",
    "# print('Validation data shape: {}'.format(val_data.shape))\n",
    "print('Test data shape: {}'.format(test_data.shape))\n",
    "\n",
    "print(df_train.head())\n",
    "print(df_val.head())\n",
    "df_test.head()"
   ]
  },
  {
   "cell_type": "code",
   "execution_count": 24,
   "metadata": {},
   "outputs": [],
   "source": [
    "# df_train.head"
   ]
  },
  {
   "cell_type": "markdown",
   "metadata": {
    "id": "Moj1_tbiTfdc"
   },
   "source": [
    "## Moving Average - Plot daily changes of close price and volume"
   ]
  },
  {
   "cell_type": "code",
   "execution_count": 25,
   "metadata": {
    "colab": {
     "base_uri": "https://localhost:8080/",
     "height": 792
    },
    "id": "UfHJUSEPSaWi",
    "outputId": "110e6214-8793-44a3-d3cd-fb004a75d28d"
   },
   "outputs": [
    {
     "data": {
      "text/plain": [
       "<matplotlib.legend.Legend at 0x7f4af45b7850>"
      ]
     },
     "execution_count": 25,
     "metadata": {},
     "output_type": "execute_result"
    },
    {
     "data": {
      "image/png": "[encoded data removed]",
      "text/plain": [
       "<Figure size 1296x864 with 2 Axes>"
      ]
     },
     "metadata": {},
     "output_type": "display_data"
    }
   ],
   "source": [
    "fig = plt.figure(figsize=(18,12))\n",
    "st = fig.suptitle(\"Data Separation\", fontsize=20)\n",
    "st.set_y(0.95)\n",
    "\n",
    "###############################################################################\n",
    "\n",
    "ax1 = fig.add_subplot(211)\n",
    "ax1.plot(np.arange(train_data.shape[0]), df_train['Close'], label='Training data')\n",
    "\n",
    "ax1.plot(np.arange(train_data.shape[0], \n",
    "                   train_data.shape[0]+val_data.shape[0]), df_val['Close'], label='Validation data')\n",
    "\n",
    "ax1.plot(np.arange(train_data.shape[0]+val_data.shape[0], \n",
    "                   train_data.shape[0]+val_data.shape[0]+test_data.shape[0]), df_test['Close'], label='Test data')\n",
    "ax1.set_xlabel('Date')\n",
    "ax1.set_ylabel('Closing Returns')\n",
    "ax1.set_title(\"Close Price\", fontsize=18)\n",
    "ax1.legend(loc=\"best\", fontsize=12)\n",
    "\n",
    "###############################################################################\n",
    "\n",
    "ax2 = fig.add_subplot(212)\n",
    "ax2.plot(np.arange(train_data.shape[0]), df_train['Volume'], label='Training data')\n",
    "\n",
    "ax2.plot(np.arange(train_data.shape[0], \n",
    "                   train_data.shape[0]+val_data.shape[0]), df_val['Volume'], label='Validation data')\n",
    "\n",
    "ax2.plot(np.arange(train_data.shape[0]+val_data.shape[0], \n",
    "                   train_data.shape[0]+val_data.shape[0]+test_data.shape[0]), df_test['Volume'], label='Test data')\n",
    "ax2.set_xlabel('Date')\n",
    "ax2.set_ylabel('Normalized Volume Changes')\n",
    "ax2.set_title(\"Volume\", fontsize=18)\n",
    "ax2.legend(loc=\"best\", fontsize=12)"
   ]
  },
  {
   "cell_type": "markdown",
   "metadata": {
    "id": "nkh2TIurTjOO"
   },
   "source": [
    "## Moving Average - Create chunks of training, validation, and test data"
   ]
  },
  {
   "cell_type": "code",
   "execution_count": 26,
   "metadata": {},
   "outputs": [
    {
     "name": "stdout",
     "output_type": "stream",
     "text": [
      "Training set shape (3072, 128, 9) (3072,)\n",
      "Validation set shape (272, 128, 9) (272,)\n",
      "Testing set shape (271, 128, 9) (271,)\n"
     ]
    }
   ],
   "source": [
    "# Training data\n",
    "X_train, y_train = [], []\n",
    "for i in range(seq_len, len(train_data)):\n",
    "  X_train.append(train_data[i-seq_len:i]) # Chunks of training data with a length of 128 df-rows\n",
    "  y_train.append(train_data[:, 3][i]) #Value of 4th column (Close Price) of df-row 128+1\n",
    "X_train, y_train = np.array(X_train), np.array(y_train)\n",
    "\n",
    "##############################################################################\n",
    "\n",
    "# Validation data\n",
    "X_val, y_val = [], []\n",
    "for i in range(seq_len, len(val_data)):\n",
    "    X_val.append(val_data[i-seq_len:i])\n",
    "    y_val.append(val_data[:, 3][i])\n",
    "X_val, y_val = np.array(X_val), np.array(y_val)\n",
    "\n",
    "##############################################################################\n",
    "\n",
    "# Test data\n",
    "X_test, y_test = [], []\n",
    "for i in range(seq_len, len(test_data)):\n",
    "    X_test.append(test_data[i-seq_len:i])\n",
    "    y_test.append(test_data[:, 3][i])    \n",
    "X_test, y_test = np.array(X_test), np.array(y_test)\n",
    "\n",
    "print('Training set shape', X_train.shape, y_train.shape)\n",
    "print('Validation set shape', X_val.shape, y_val.shape)\n",
    "print('Testing set shape' ,X_test.shape, y_test.shape)"
   ]
  },
  {
   "cell_type": "code",
   "execution_count": 27,
   "metadata": {},
   "outputs": [
    {
     "data": {
      "text/plain": [
       "array([7.02000000e+00, 7.20000000e+00, 7.02000000e+00, 7.10000000e+00,\n",
       "       7.01000000e+00, 9.00000000e-02, 1.28000000e+00, 3.28949000e+04,\n",
       "       2.33798239e+04])"
      ]
     },
     "execution_count": 27,
     "metadata": {},
     "output_type": "execute_result"
    }
   ],
   "source": [
    "X_test[0][0][:]"
   ]
  },
  {
   "cell_type": "code",
   "execution_count": 28,
   "metadata": {
    "colab": {
     "base_uri": "https://localhost:8080/",
     "height": 51
    },
    "id": "O4YOIvAuTj4S",
    "outputId": "13902840-6cb9-46ff-9256-fc68dcd61296"
   },
   "outputs": [],
   "source": [
    "# # Training data\n",
    "# X_train, y_train = [], []\n",
    "# for i in range(seq_len, len(train_data)-5):\n",
    "#   X_train.append(train_data[i-seq_len:i]) # Chunks of training data with a length of 128 df-rows\n",
    "#   y_train.append(train_data[:, 3][i+5]) #Value of 4th column (Close Price) of df-row 128+1\n",
    "# X_train, y_train = np.array(X_train), np.array(y_train)\n",
    "\n",
    "# ###############################################################################\n",
    "\n",
    "# # # Validation data\n",
    "# # X_val, y_val = [], []\n",
    "# # for i in range(seq_len, len(val_data)):\n",
    "# #     X_val.append(val_data[i-seq_len:i])\n",
    "# #     y_val.append(val_data[:, 3][i])\n",
    "# # X_val, y_val = np.array(X_val), np.array(y_val)\n",
    "\n",
    "# ###############################################################################\n",
    "\n",
    "# # Test data\n",
    "# X_test, y_test = [], []\n",
    "# for i in range(seq_len, len(test_data)-5):\n",
    "#     X_test.append(test_data[i-seq_len])\n",
    "#     y_test.append(test_data[:, 3][i+5])\n",
    "# X_test, y_test = np.array(X_test), np.array(y_test)\n",
    "\n",
    "# print(X_train.shape, y_train.shape)\n",
    "# # print(X_val.shape, y_val.shape)"
   ]
  },
  {
   "cell_type": "code",
   "execution_count": 29,
   "metadata": {},
   "outputs": [
    {
     "name": "stdout",
     "output_type": "stream",
     "text": [
      "(271, 128, 9)\n"
     ]
    }
   ],
   "source": [
    "print(X_test.shape)"
   ]
  },
  {
   "cell_type": "markdown",
   "metadata": {
    "id": "ns21gno_T2xy"
   },
   "source": [
    "## Moving Average - Model"
   ]
  },
  {
   "cell_type": "code",
   "execution_count": 30,
   "metadata": {},
   "outputs": [],
   "source": [
    "# X_train[0]"
   ]
  },
  {
   "cell_type": "code",
   "execution_count": 31,
   "metadata": {},
   "outputs": [
    {
     "data": {
      "text/plain": [
       "(271,)"
      ]
     },
     "execution_count": 31,
     "metadata": {},
     "output_type": "execute_result"
    }
   ],
   "source": [
    "y_test.shape"
   ]
  },
  {
   "cell_type": "code",
   "execution_count": 32,
   "metadata": {
    "colab": {
     "base_uri": "https://localhost:8080/",
     "height": 1000
    },
    "id": "_1oy3O71Tjyv",
    "outputId": "c431669a-ae34-42bc-b27c-3a40b20b0051"
   },
   "outputs": [
    {
     "name": "stderr",
     "output_type": "stream",
     "text": [
      "2021-12-08 21:30:47.793295: I tensorflow/core/common_runtime/gpu/gpu_device.cc:1618] Found device 0 with properties: \n",
      "name: Tesla V100-SXM2-32GB major: 7 minor: 0 memoryClockRate(GHz): 1.53\n",
      "pciBusID: 0000:1b:00.0\n",
      "2021-12-08 21:30:47.798575: I tensorflow/core/common_runtime/gpu/gpu_device.cc:1618] Found device 1 with properties: \n",
      "name: Tesla V100-SXM2-32GB major: 7 minor: 0 memoryClockRate(GHz): 1.53\n",
      "pciBusID: 0000:1c:00.0\n",
      "2021-12-08 21:30:47.801034: I tensorflow/core/common_runtime/gpu/gpu_device.cc:1618] Found device 2 with properties: \n",
      "name: Tesla V100-SXM2-32GB major: 7 minor: 0 memoryClockRate(GHz): 1.53\n",
      "pciBusID: 0000:60:00.0\n",
      "2021-12-08 21:30:47.804466: I tensorflow/core/common_runtime/gpu/gpu_device.cc:1618] Found device 3 with properties: \n",
      "name: Tesla V100-SXM2-32GB major: 7 minor: 0 memoryClockRate(GHz): 1.53\n",
      "pciBusID: 0000:62:00.0\n",
      "2021-12-08 21:30:47.807275: I tensorflow/core/common_runtime/gpu/gpu_device.cc:1618] Found device 4 with properties: \n",
      "name: Tesla V100-SXM2-32GB major: 7 minor: 0 memoryClockRate(GHz): 1.53\n",
      "pciBusID: 0000:b1:00.0\n",
      "2021-12-08 21:30:47.811613: I tensorflow/core/common_runtime/gpu/gpu_device.cc:1618] Found device 5 with properties: \n",
      "name: Tesla V100-SXM2-32GB major: 7 minor: 0 memoryClockRate(GHz): 1.53\n",
      "pciBusID: 0000:b2:00.0\n",
      "2021-12-08 21:30:47.815251: I tensorflow/core/common_runtime/gpu/gpu_device.cc:1618] Found device 6 with properties: \n",
      "name: Tesla V100-SXM2-32GB major: 7 minor: 0 memoryClockRate(GHz): 1.53\n",
      "pciBusID: 0000:da:00.0\n",
      "2021-12-08 21:30:47.818973: I tensorflow/core/common_runtime/gpu/gpu_device.cc:1618] Found device 7 with properties: \n",
      "name: Tesla V100-SXM2-32GB major: 7 minor: 0 memoryClockRate(GHz): 1.53\n",
      "pciBusID: 0000:dc:00.0\n",
      "2021-12-08 21:30:47.819044: I tensorflow/stream_executor/platform/default/dso_loader.cc:44] Successfully opened dynamic library libcudart.so.10.0\n",
      "2021-12-08 21:30:47.819059: I tensorflow/stream_executor/platform/default/dso_loader.cc:44] Successfully opened dynamic library libcublas.so.10.0\n",
      "2021-12-08 21:30:47.819084: I tensorflow/stream_executor/platform/default/dso_loader.cc:44] Successfully opened dynamic library libcufft.so.10.0\n",
      "2021-12-08 21:30:47.819104: I tensorflow/stream_executor/platform/default/dso_loader.cc:44] Successfully opened dynamic library libcurand.so.10.0\n",
      "2021-12-08 21:30:47.819122: I tensorflow/stream_executor/platform/default/dso_loader.cc:44] Successfully opened dynamic library libcusolver.so.10.0\n",
      "2021-12-08 21:30:47.819141: I tensorflow/stream_executor/platform/default/dso_loader.cc:44] Successfully opened dynamic library libcusparse.so.10.0\n",
      "2021-12-08 21:30:47.819160: I tensorflow/stream_executor/platform/default/dso_loader.cc:44] Successfully opened dynamic library libcudnn.so.7\n",
      "2021-12-08 21:30:47.879494: I tensorflow/core/common_runtime/gpu/gpu_device.cc:1746] Adding visible gpu devices: 0, 1, 2, 3, 4, 5, 6, 7\n",
      "2021-12-08 21:30:47.883105: I tensorflow/core/common_runtime/gpu/gpu_device.cc:1618] Found device 0 with properties: \n",
      "name: Tesla V100-SXM2-32GB major: 7 minor: 0 memoryClockRate(GHz): 1.53\n",
      "pciBusID: 0000:1b:00.0\n",
      "2021-12-08 21:30:47.886964: I tensorflow/core/common_runtime/gpu/gpu_device.cc:1618] Found device 1 with properties: \n",
      "name: Tesla V100-SXM2-32GB major: 7 minor: 0 memoryClockRate(GHz): 1.53\n",
      "pciBusID: 0000:1c:00.0\n",
      "2021-12-08 21:30:47.890855: I tensorflow/core/common_runtime/gpu/gpu_device.cc:1618] Found device 2 with properties: \n",
      "name: Tesla V100-SXM2-32GB major: 7 minor: 0 memoryClockRate(GHz): 1.53\n",
      "pciBusID: 0000:60:00.0\n",
      "2021-12-08 21:30:47.895029: I tensorflow/core/common_runtime/gpu/gpu_device.cc:1618] Found device 3 with properties: \n",
      "name: Tesla V100-SXM2-32GB major: 7 minor: 0 memoryClockRate(GHz): 1.53\n",
      "pciBusID: 0000:62:00.0\n",
      "2021-12-08 21:30:47.899127: I tensorflow/core/common_runtime/gpu/gpu_device.cc:1618] Found device 4 with properties: \n",
      "name: Tesla V100-SXM2-32GB major: 7 minor: 0 memoryClockRate(GHz): 1.53\n",
      "pciBusID: 0000:b1:00.0\n",
      "2021-12-08 21:30:47.903242: I tensorflow/core/common_runtime/gpu/gpu_device.cc:1618] Found device 5 with properties: \n",
      "name: Tesla V100-SXM2-32GB major: 7 minor: 0 memoryClockRate(GHz): 1.53\n",
      "pciBusID: 0000:b2:00.0\n",
      "2021-12-08 21:30:47.908688: I tensorflow/core/common_runtime/gpu/gpu_device.cc:1618] Found device 6 with properties: \n",
      "name: Tesla V100-SXM2-32GB major: 7 minor: 0 memoryClockRate(GHz): 1.53\n",
      "pciBusID: 0000:da:00.0\n",
      "2021-12-08 21:30:47.912613: I tensorflow/core/common_runtime/gpu/gpu_device.cc:1618] Found device 7 with properties: \n",
      "name: Tesla V100-SXM2-32GB major: 7 minor: 0 memoryClockRate(GHz): 1.53\n",
      "pciBusID: 0000:dc:00.0\n",
      "2021-12-08 21:30:47.912654: I tensorflow/stream_executor/platform/default/dso_loader.cc:44] Successfully opened dynamic library libcudart.so.10.0\n",
      "2021-12-08 21:30:47.912668: I tensorflow/stream_executor/platform/default/dso_loader.cc:44] Successfully opened dynamic library libcublas.so.10.0\n",
      "2021-12-08 21:30:47.912682: I tensorflow/stream_executor/platform/default/dso_loader.cc:44] Successfully opened dynamic library libcufft.so.10.0\n",
      "2021-12-08 21:30:47.912695: I tensorflow/stream_executor/platform/default/dso_loader.cc:44] Successfully opened dynamic library libcurand.so.10.0\n",
      "2021-12-08 21:30:47.912708: I tensorflow/stream_executor/platform/default/dso_loader.cc:44] Successfully opened dynamic library libcusolver.so.10.0\n",
      "2021-12-08 21:30:47.912720: I tensorflow/stream_executor/platform/default/dso_loader.cc:44] Successfully opened dynamic library libcusparse.so.10.0\n",
      "2021-12-08 21:30:47.912734: I tensorflow/stream_executor/platform/default/dso_loader.cc:44] Successfully opened dynamic library libcudnn.so.7\n",
      "2021-12-08 21:30:47.980444: I tensorflow/core/common_runtime/gpu/gpu_device.cc:1746] Adding visible gpu devices: 0, 1, 2, 3, 4, 5, 6, 7\n",
      "2021-12-08 21:30:47.983668: I tensorflow/core/common_runtime/gpu/gpu_device.cc:1159] Device interconnect StreamExecutor with strength 1 edge matrix:\n",
      "2021-12-08 21:30:47.983686: I tensorflow/core/common_runtime/gpu/gpu_device.cc:1165]      0 1 2 3 4 5 6 7 \n",
      "2021-12-08 21:30:47.983691: I tensorflow/core/common_runtime/gpu/gpu_device.cc:1178] 0:   N Y Y Y Y Y Y Y \n",
      "2021-12-08 21:30:47.983695: I tensorflow/core/common_runtime/gpu/gpu_device.cc:1178] 1:   Y N Y Y Y Y Y Y \n",
      "2021-12-08 21:30:47.983699: I tensorflow/core/common_runtime/gpu/gpu_device.cc:1178] 2:   Y Y N Y Y Y Y Y \n",
      "2021-12-08 21:30:47.983702: I tensorflow/core/common_runtime/gpu/gpu_device.cc:1178] 3:   Y Y Y N Y Y Y Y \n",
      "2021-12-08 21:30:47.983706: I tensorflow/core/common_runtime/gpu/gpu_device.cc:1178] 4:   Y Y Y Y N Y Y Y \n",
      "2021-12-08 21:30:47.983710: I tensorflow/core/common_runtime/gpu/gpu_device.cc:1178] 5:   Y Y Y Y Y N Y Y \n",
      "2021-12-08 21:30:47.983713: I tensorflow/core/common_runtime/gpu/gpu_device.cc:1178] 6:   Y Y Y Y Y Y N Y \n",
      "2021-12-08 21:30:47.983717: I tensorflow/core/common_runtime/gpu/gpu_device.cc:1178] 7:   Y Y Y Y Y Y Y N \n",
      "2021-12-08 21:30:48.018271: I tensorflow/core/common_runtime/gpu/gpu_device.cc:1304] Created TensorFlow device (/job:localhost/replica:0/task:0/device:GPU:0 with 18743 MB memory) -> physical GPU (device: 0, name: Tesla V100-SXM2-32GB, pci bus id: 0000:1b:00.0, compute capability: 7.0)\n",
      "2021-12-08 21:30:48.022744: I tensorflow/core/common_runtime/gpu/gpu_device.cc:1304] Created TensorFlow device (/job:localhost/replica:0/task:0/device:GPU:1 with 30581 MB memory) -> physical GPU (device: 1, name: Tesla V100-SXM2-32GB, pci bus id: 0000:1c:00.0, compute capability: 7.0)\n",
      "2021-12-08 21:30:48.024797: I tensorflow/core/common_runtime/gpu/gpu_device.cc:1304] Created TensorFlow device (/job:localhost/replica:0/task:0/device:GPU:2 with 877 MB memory) -> physical GPU (device: 2, name: Tesla V100-SXM2-32GB, pci bus id: 0000:60:00.0, compute capability: 7.0)\n",
      "2021-12-08 21:30:48.029075: I tensorflow/core/common_runtime/gpu/gpu_device.cc:1304] Created TensorFlow device (/job:localhost/replica:0/task:0/device:GPU:3 with 30576 MB memory) -> physical GPU (device: 3, name: Tesla V100-SXM2-32GB, pci bus id: 0000:62:00.0, compute capability: 7.0)\n",
      "2021-12-08 21:30:48.033507: I tensorflow/core/common_runtime/gpu/gpu_device.cc:1304] Created TensorFlow device (/job:localhost/replica:0/task:0/device:GPU:4 with 30581 MB memory) -> physical GPU (device: 4, name: Tesla V100-SXM2-32GB, pci bus id: 0000:b1:00.0, compute capability: 7.0)\n",
      "2021-12-08 21:30:48.037834: I tensorflow/core/common_runtime/gpu/gpu_device.cc:1304] Created TensorFlow device (/job:localhost/replica:0/task:0/device:GPU:5 with 30579 MB memory) -> physical GPU (device: 5, name: Tesla V100-SXM2-32GB, pci bus id: 0000:b2:00.0, compute capability: 7.0)\n",
      "2021-12-08 21:30:48.041820: I tensorflow/core/common_runtime/gpu/gpu_device.cc:1304] Created TensorFlow device (/job:localhost/replica:0/task:0/device:GPU:6 with 30581 MB memory) -> physical GPU (device: 6, name: Tesla V100-SXM2-32GB, pci bus id: 0000:da:00.0, compute capability: 7.0)\n",
      "2021-12-08 21:30:48.045871: I tensorflow/core/common_runtime/gpu/gpu_device.cc:1304] Created TensorFlow device (/job:localhost/replica:0/task:0/device:GPU:7 with 30581 MB memory) -> physical GPU (device: 7, name: Tesla V100-SXM2-32GB, pci bus id: 0000:dc:00.0, compute capability: 7.0)\n"
     ]
    },
    {
     "name": "stdout",
     "output_type": "stream",
     "text": [
      "Model: \"model\"\n",
      "__________________________________________________________________________________________________\n",
      "Layer (type)                    Output Shape         Param #     Connected to                     \n",
      "==================================================================================================\n",
      "input_1 (InputLayer)            [(None, 128, 9)]     0                                            \n",
      "__________________________________________________________________________________________________\n",
      "time2_vector (Time2Vector)      (None, 128, 2)       512         input_1[0][0]                    \n",
      "__________________________________________________________________________________________________\n",
      "concatenate (Concatenate)       (None, 128, 11)      0           input_1[0][0]                    \n",
      "                                                                 time2_vector[0][0]               \n",
      "__________________________________________________________________________________________________\n",
      "layer_normalization_1 (LayerNor (None, 128, 11)      22          concatenate[0][0]                \n",
      "__________________________________________________________________________________________________\n",
      "layer_normalization (LayerNorma (None, 128, 11)      22          layer_normalization_1[0][0]      \n",
      "                                                                 transformer_encoder[0][0]        \n",
      "                                                                 transformer_encoder_1[0][0]      \n",
      "                                                                 transformer_encoder_2[0][0]      \n",
      "__________________________________________________________________________________________________\n",
      "transformer_encoder (Transforme (None, 128, 11)      120002      layer_normalization[0][0]        \n",
      "                                                                 layer_normalization[0][0]        \n",
      "                                                                 layer_normalization[0][0]        \n",
      "__________________________________________________________________________________________________\n",
      "transformer_encoder_1 (Transfor (None, 128, 11)      120002      layer_normalization[1][0]        \n",
      "                                                                 layer_normalization[1][0]        \n",
      "                                                                 layer_normalization[1][0]        \n",
      "__________________________________________________________________________________________________\n",
      "transformer_encoder_2 (Transfor (None, 128, 11)      120002      layer_normalization[2][0]        \n",
      "                                                                 layer_normalization[2][0]        \n",
      "                                                                 layer_normalization[2][0]        \n",
      "__________________________________________________________________________________________________\n",
      "global_average_pooling1d (Globa (None, 128)          0           layer_normalization[3][0]        \n",
      "__________________________________________________________________________________________________\n",
      "dropout (Dropout)               (None, 128)          0           global_average_pooling1d[0][0]   \n",
      "__________________________________________________________________________________________________\n",
      "dense (Dense)                   (None, 64)           8256        dropout[0][0]                    \n",
      "__________________________________________________________________________________________________\n",
      "dropout_1 (Dropout)             (None, 64)           0           dense[0][0]                      \n",
      "__________________________________________________________________________________________________\n",
      "dense_1 (Dense)                 (None, 1)            65          dropout_1[0][0]                  \n",
      "==================================================================================================\n",
      "Total params: 368,883\n",
      "Trainable params: 368,883\n",
      "Non-trainable params: 0\n",
      "__________________________________________________________________________________________________\n"
     ]
    }
   ],
   "source": [
    "def create_model():\n",
    "  '''Initialize time and transformer layers'''\n",
    "  time_embedding = Time2Vector(seq_len)\n",
    "  attn_layer1 = TransformerEncoder(d_k, d_v, n_heads, ff_dim)\n",
    "  attn_layer2 = TransformerEncoder(d_k, d_v, n_heads, ff_dim)\n",
    "  attn_layer3 = TransformerEncoder(d_k, d_v, n_heads, ff_dim)\n",
    "  normall = LayerNormalization(axis=2)\n",
    "  normal_first = LayerNormalization(axis=-1)\n",
    "  # input_shape = (2,seq_len,7)\n",
    "  '''Construct model'''\n",
    "  in_seq = Input(shape=(seq_len, 9))\n",
    "  x = time_embedding(in_seq)\n",
    "  x = Concatenate(axis=-1)([in_seq, x])\n",
    "  x = normal_first(x)\n",
    "  x = normall(x)\n",
    "  x = attn_layer1((x, x, x))\n",
    "  \n",
    "  x = normall(x)\n",
    "  # x = sce2(x)\n",
    "  # print(x.shape)\n",
    "  x = attn_layer2((x, x, x))\n",
    "  x = normall(x)\n",
    "  # x = sce2(x)\n",
    "  x = attn_layer3((x, x, x))\n",
    "  \n",
    "  x = normall(x)\n",
    "  x = GlobalAveragePooling1D(data_format='channels_first')(x)\n",
    "  x = Dropout(0.1)(x)\n",
    "  x = Dense(64, activation='relu')(x)\n",
    "  x = Dropout(0.1)(x)\n",
    "  out = Dense(1, activation='linear')(x)\n",
    "\n",
    "  model = Model(inputs=in_seq, outputs=out)\n",
    "  model.compile(loss='mape', optimizer='adam', metrics=['mae', 'mape'])\n",
    "  return model\n",
    "\n",
    "\n",
    "model = create_model()\n",
    "model.summary()\n",
    "\n",
    "callback = tf.keras.callbacks.ModelCheckpoint('./Transformer+TimeEmbedding_sz.hdf5', \n",
    "                                              monitor='val_loss', \n",
    "                                              save_best_only=True, \n",
    "                                              verbose=1)\n",
    "\n",
    "# callback = tf.keras.callbacks.ModelCheckpoint('Transformer+TimeEmbedding.hdf5', \n",
    "#                                               monitor='mae', \n",
    "#                                               save_best_only=False, verbose=1)\n",
    "\n"
   ]
  },
  {
   "cell_type": "code",
   "execution_count": 33,
   "metadata": {},
   "outputs": [
    {
     "name": "stdout",
     "output_type": "stream",
     "text": [
      "Train on 3072 samples, validate on 272 samples\n",
      "Epoch 1/300\n"
     ]
    },
    {
     "name": "stderr",
     "output_type": "stream",
     "text": [
      "2021-12-08 21:32:52.866721: I tensorflow/stream_executor/platform/default/dso_loader.cc:44] Successfully opened dynamic library libcublas.so.10.0\n",
      "2021-12-08 21:33:04.880240: I tensorflow/stream_executor/platform/default/dso_loader.cc:44] Successfully opened dynamic library libcudnn.so.7\n"
     ]
    },
    {
     "name": "stdout",
     "output_type": "stream",
     "text": [
      " 256/3072 [=>............................] - ETA: 33:52 - loss: 99.9838 - mae: 14.5528 - mape: 99.9838  "
     ]
    }
   ],
   "source": [
    "history = model.fit(X_train, y_train,\n",
    "                    batch_size=batch_size, \n",
    "                    epochs=300,\n",
    "                    callbacks=[callback],\n",
    "                    validation_data=(X_val, y_val))\n",
    "\n"
   ]
  },
  {
   "cell_type": "code",
   "execution_count": null,
   "metadata": {},
   "outputs": [],
   "source": [
    "model = tf.keras.models.load_model('./Transformer+TimeEmbedding_sz.hdf5',\n",
    "                                   custom_objects={'Time2Vector': Time2Vector, \n",
    "                                                   'SingleAttention': SingleAttention,\n",
    "                                                   'MultiAttention': MultiAttention,\n",
    "                                                   'TransformerEncoder': TransformerEncoder})\n",
    "\n",
    "\n",
    "###############################################################################\n",
    "'''Calculate predictions and metrics'''\n",
    "\n",
    "#Calculate predication for training, validation and test data\n",
    "train_pred = model.predict(X_train)\n",
    "val_pred = model.predict(X_val)\n",
    "test_pred = model.predict(X_test)\n",
    "\n",
    "#Print evaluation metrics for all datasets\n",
    "train_eval = model.evaluate(X_train, y_train, verbose=0)\n",
    "val_eval = model.evaluate(X_val, y_val, verbose=0)\n",
    "test_eval = model.evaluate(X_test, y_test, verbose=0)\n",
    "print(' ')\n",
    "print('Evaluation metrics')\n",
    "print('Training Data - Loss: {:.4f}, MAE: {:.4f}, MAPE: {:.4f}'.format(train_eval[0], train_eval[1], train_eval[2]))\n",
    "print('Validation Data - Loss: {:.4f}, MAE: {:.4f}, MAPE: {:.4f}'.format(val_eval[0], val_eval[1], val_eval[2]))\n",
    "print('Test Data - Loss: {:.4f}, MAE: {:.4f}, MAPE: {:.4f}'.format(test_eval[0], test_eval[1], test_eval[2]))"
   ]
  },
  {
   "cell_type": "code",
   "execution_count": null,
   "metadata": {},
   "outputs": [],
   "source": [
    "y_train.shape[0]"
   ]
  },
  {
   "cell_type": "code",
   "execution_count": null,
   "metadata": {},
   "outputs": [],
   "source": [
    "'''Display results'''\n",
    "\n",
    "fig = plt.figure(figsize=(15,20))\n",
    "st = fig.suptitle(\"Transformer + TimeEmbedding Model\", fontsize=22)\n",
    "st.set_y(0.92)\n",
    "\n",
    "#Plot training data results\n",
    "ax11 = fig.add_subplot(311)\n",
    "ax11.plot(train_data[:, 3], label='Tesla Closing Returns')\n",
    "ax11.plot(np.arange(seq_len, train_pred.shape[0]+seq_len), train_pred, linewidth=3, label='Predicted Tesla Closing Returns')\n",
    "ax11.set_title(\"Training Data\", fontsize=18)\n",
    "ax11.set_xlabel('Date')\n",
    "ax11.set_ylabel('Tesla Closing Returns')\n",
    "ax11.legend(loc=\"best\", fontsize=12)\n",
    "\n",
    "#Plot validation data results\n",
    "ax21 = fig.add_subplot(312)\n",
    "ax21.plot(val_data[:, 3], label='Tesla Closing Returns')\n",
    "ax21.plot(np.arange(seq_len, val_pred.shape[0]+seq_len), val_pred, linewidth=3, label='Predicted Tesla Closing Returns')\n",
    "ax21.set_title(\"Validation Data\", fontsize=18)\n",
    "ax21.set_xlabel('Date')\n",
    "ax21.set_ylabel('Tesla Closing Returns')\n",
    "ax21.legend(loc=\"best\", fontsize=12)\n",
    "\n",
    "#Plot test data results\n",
    "ax31 = fig.add_subplot(313)\n",
    "ax31.plot(test_data[:, 3], label='Tesla Closing Returns')\n",
    "ax31.plot(np.arange(seq_len, test_pred.shape[0]+seq_len), test_pred, linewidth=3, label='Predicted Tesla Closing Returns')\n",
    "ax31.set_title(\"Test Data\", fontsize=18)\n",
    "ax31.set_xlabel('Date')\n",
    "ax31.set_ylabel('Tesla Closing Returns')\n",
    "ax31.legend(loc=\"best\", fontsize=12)"
   ]
  },
  {
   "cell_type": "markdown",
   "metadata": {
    "id": "rQxwsG_AT_gm"
   },
   "source": [
    "## Moving Average - Model metrics"
   ]
  },
  {
   "cell_type": "code",
   "execution_count": null,
   "metadata": {},
   "outputs": [],
   "source": []
  },
  {
   "cell_type": "code",
   "execution_count": null,
   "metadata": {},
   "outputs": [],
   "source": [
    "y_test[-1],test_pred[-1]"
   ]
  },
  {
   "cell_type": "code",
   "execution_count": null,
   "metadata": {},
   "outputs": [],
   "source": [
    "y_train.size"
   ]
  },
  {
   "cell_type": "code",
   "execution_count": null,
   "metadata": {},
   "outputs": [],
   "source": [
    "y_test.size"
   ]
  },
  {
   "cell_type": "code",
   "execution_count": null,
   "metadata": {},
   "outputs": [],
   "source": [
    "def calculate_accuracy(real, predict):\n",
    "    real = np.array(real) + 1\n",
    "    predict = np.array(predict) + 1\n",
    "    percentage = 1 - np.sqrt(np.mean(np.square((real - predict) / real)))\n",
    "    return percentage * 100\n",
    "accuracies = [calculate_accuracy(df['Close'].iloc[-y_test.size:].values, r) for r in test_pred]\n",
    "plt.figure(figsize = (15, 5))\n",
    "plt.plot(test_pred[:y_test.size], label = 'forecast')\n",
    "plt.plot(df['Close'].iloc[:y_test.size].values, label = 'true trend', c = 'black')\n",
    "plt.legend()\n",
    "plt.title('average accuracy: %.4f'%(np.mean(accuracies)))\n",
    "plt.show()"
   ]
  },
  {
   "cell_type": "code",
   "execution_count": null,
   "metadata": {
    "colab": {
     "base_uri": "https://localhost:8080/",
     "height": 1000
    },
    "id": "UCNT45C_TjsT",
    "outputId": "593aec95-a2c2-4f0d-8845-70d5ee3a74a3"
   },
   "outputs": [],
   "source": [
    "'''Display model metrics'''\n",
    "\n",
    "fig = plt.figure(figsize=(15,20))\n",
    "st = fig.suptitle(\"Moving Average - Transformer + TimeEmbedding Model Metrics\", fontsize=22)\n",
    "st.set_y(0.92)\n",
    "\n",
    "#Plot model loss\n",
    "ax1 = fig.add_subplot(311)\n",
    "ax1.plot(history.history['loss'], label='Training loss (MSE)')\n",
    "ax1.plot(history.history['val_loss'], label='Validation loss (MSE)')\n",
    "ax1.set_title(\"Model loss\", fontsize=18)\n",
    "ax1.set_xlabel('Epoch')\n",
    "ax1.set_ylabel('Loss (MSE)')\n",
    "ax1.legend(loc=\"best\", fontsize=12)\n",
    "\n",
    "#Plot MAE\n",
    "ax2 = fig.add_subplot(312)\n",
    "ax2.plot(history.history['mae'], label='Training MAE')\n",
    "ax2.plot(history.history['val_mae'], label='Validation MAE')\n",
    "ax2.set_title(\"Model metric - Mean average error (MAE)\", fontsize=18)\n",
    "ax2.set_xlabel('Epoch')\n",
    "ax2.set_ylabel('Mean average error (MAE)')\n",
    "ax2.legend(loc=\"best\", fontsize=12)\n",
    "\n",
    "#Plot MAPE\n",
    "ax3 = fig.add_subplot(313)\n",
    "ax3.plot(history.history['mape'], label='Training MAPE')\n",
    "ax3.plot(history.history['val_mape'], label='Validation MAPE')\n",
    "ax3.set_title(\"Model metric - Mean average percentage error (MAPE)\", fontsize=18)\n",
    "ax3.set_xlabel('Epoch')\n",
    "ax3.set_ylabel('Mean average percentage error (MAPE)')\n",
    "ax3.legend(loc=\"best\", fontsize=12)"
   ]
  },
  {
   "cell_type": "code",
   "execution_count": null,
   "metadata": {
    "id": "pNvUgwyfTjl0"
   },
   "outputs": [],
   "source": []
  },
  {
   "cell_type": "code",
   "execution_count": null,
   "metadata": {},
   "outputs": [],
   "source": []
  }
 ],
 "metadata": {
  "colab": {
   "collapsed_sections": [],
   "name": "IBM_Transformer+TimeEmbedding_Github.ipynb",
   "provenance": []
  },
  "kernelspec": {
   "display_name": "Python 3",
   "language": "python",
   "name": "python3"
  },
  "language_info": {
   "codemirror_mode": {
    "name": "ipython",
    "version": 3
   },
   "file_extension": ".py",
   "mimetype": "text/x-python",
   "name": "python",
   "nbconvert_exporter": "python",
   "pygments_lexer": "ipython3",
   "version": "3.7.11"
  }
 },
 "nbformat": 4,
 "nbformat_minor": 1
}
