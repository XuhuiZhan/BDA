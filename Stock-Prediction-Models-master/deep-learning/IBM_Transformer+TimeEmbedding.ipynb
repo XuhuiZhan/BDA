{
  "cells": [
    {
      "cell_type": "code",
      "execution_count": 35,
      "metadata": {
        "colab": {
          "base_uri": "https://localhost:8080/"
        },
        "id": "i6zxz6xZyWb2",
        "outputId": "d80a4b3f-7fb0-4e51-bfa6-879b0b1edefc"
      },
      "outputs": [
        {
          "name": "stdout",
          "output_type": "stream",
          "text": [
            "Tensorflow version: 2.2.0\n"
          ]
        }
      ],
      "source": [
        "import numpy as np\n",
        "import pandas as pd\n",
        "import os, datetime\n",
        "import tensorflow as tf\n",
        "from tensorflow.keras.models import *\n",
        "from tensorflow.keras.layers import *\n",
        "print('Tensorflow version: {}'.format(tf.__version__))\n",
        "\n",
        "import matplotlib.pyplot as plt\n",
        "plt.style.use('seaborn')\n",
        "\n",
        "import warnings\n",
        "warnings.filterwarnings('ignore')\n"
      ]
    },
    {
      "cell_type": "markdown",
      "metadata": {
        "id": "ykFSM9LT54LR"
      },
      "source": [
        "## Hyperparameters"
      ]
    },
    {
      "cell_type": "code",
      "execution_count": 36,
      "metadata": {},
      "outputs": [],
      "source": [
        "# import tushare as ts\n",
        "# pro = ts.pro_api('f198ddf6f6c8918413793b567bed6269e931f433abd746b26a3c2668')\n",
        "# dd = pro.daily(ts_code='000001.SZ', start_data='20180701', end_data='20201119')\n",
        "# dd.to_csv('pro001.csv')"
      ]
    },
    {
      "cell_type": "code",
      "execution_count": 37,
      "metadata": {
        "id": "Acgb31zy5lcD"
      },
      "outputs": [],
      "source": [
        "batch_size = 128\n",
        "seq_len = 128\n",
        "d_k = 32\n",
        "d_v = 32\n",
        "n_heads = 32\n",
        "ff_dim = 256"
      ]
    },
    {
      "cell_type": "markdown",
      "metadata": {
        "id": "HnPzNUPK50Ki"
      },
      "source": [
        "## Load Tesla data"
      ]
    },
    {
      "cell_type": "code",
      "execution_count": 38,
      "metadata": {
        "colab": {
          "base_uri": "https://localhost:8080/",
          "height": 202
        },
        "id": "jdi13JvV5ltd",
        "outputId": "c947f751-de26-49f7-8f9b-f53bc52574f6"
      },
      "outputs": [],
      "source": [
        "# TSLA_path = '../dataset/TSLA.csv'\n",
        "\n",
        "# df = pd.read_csv(TSLA_path, delimiter=',', usecols=['Date', 'Open', 'High', 'Low', 'Close','Adj Close','Volume'])\n",
        "\n",
        "# # Replace 0 to avoid dividing by 0 later on\n",
        "# df['Volume'].replace(to_replace=0, method='ffill', inplace=True) \n",
        "# df.sort_values('Date', inplace=True)\n",
        "# df.tail()"
      ]
    },
    {
      "cell_type": "code",
      "execution_count": 39,
      "metadata": {},
      "outputs": [],
      "source": [
        "# df.drop(labels='Adj Close',axis=1,inplace=True)\n",
        "# df.head()"
      ]
    },
    {
      "cell_type": "markdown",
      "metadata": {
        "id": "Caac4a66588l"
      },
      "source": [
        "## Plot daily Tesla closing prices and volume"
      ]
    },
    {
      "cell_type": "code",
      "execution_count": 40,
      "metadata": {
        "colab": {
          "base_uri": "https://localhost:8080/",
          "height": 637
        },
        "id": "JJ1tN1_k5lx2",
        "outputId": "1efdbdf0-3fef-4db4-b1db-1be2fb5bfe5d"
      },
      "outputs": [],
      "source": [
        "# fig = plt.figure(figsize=(15,10))\n",
        "# st = fig.suptitle(\"Tesla Close Price and Volume\", fontsize=20)\n",
        "# st.set_y(0.92)\n",
        "\n",
        "# ax1 = fig.add_subplot(211)\n",
        "# ax1.plot(df['Close'], label='Tesla Close Price')\n",
        "# ax1.set_xticks(range(0, df.shape[0], 1464))\n",
        "# ax1.set_xticklabels(df['Date'].loc[::1464])\n",
        "# ax1.set_ylabel('Close Price', fontsize=18)\n",
        "# ax1.legend(loc=\"upper left\", fontsize=12)\n",
        "\n",
        "# ax2 = fig.add_subplot(212)\n",
        "# ax2.plot(df['Volume'], label='Tesla Volume')\n",
        "# ax2.set_xticks(range(0, df.shape[0], 1464))\n",
        "# ax2.set_xticklabels(df['Date'].loc[::1464])\n",
        "# ax2.set_ylabel('Volume', fontsize=18)\n",
        "# ax2.legend(loc=\"upper left\", fontsize=12)"
      ]
    },
    {
      "cell_type": "markdown",
      "metadata": {
        "id": "fTS3Cm2H6GBz"
      },
      "source": [
        "## Calculate normalized percentage change of all columns"
      ]
    },
    {
      "cell_type": "code",
      "execution_count": null,
      "metadata": {},
      "outputs": [],
      "source": []
    },
    {
      "cell_type": "code",
      "execution_count": 41,
      "metadata": {
        "colab": {
          "base_uri": "https://localhost:8080/",
          "height": 255
        },
        "id": "i7_Uju9B5lqY",
        "outputId": "e56a1ca3-9c69-4ea4-ce2b-e1411c64452a"
      },
      "outputs": [],
      "source": [
        "# '''Calculate percentage change'''\n",
        "\n",
        "# # df['Open'] = df['Open'].pct_change() # Create arithmetic returns column\n",
        "# # df['High'] = df['High'].pct_change() # Create arithmetic returns column\n",
        "# # df['Low'] = df['Low'].pct_change() # Create arithmetic returns column\n",
        "# # df['Close'] = df['Close'].pct_change() # Create arithmetic returns column\n",
        "# # df['Volume'] = df['Volume'].pct_change()\n",
        "\n",
        "# df.dropna(how='any', axis=0, inplace=True) # Drop all rows with NaN values\n",
        "\n",
        "# ###############################################################################\n",
        "# '''Create indexes to split dataset'''\n",
        "\n",
        "# # times = sorted(df.index.values)\n",
        "# # last_10pct = sorted(df.index.values)[-int(0.1*len(times))] # Last 10% of series\n",
        "# # last_20pct = sorted(df.index.values)[-int(0.2*len(times))] # Last 20% of series\n",
        "\n",
        "# ###############################################################################\n",
        "# '''Normalize price columns'''\n",
        "# #\n",
        "# # min_return = min(df[(df.index < last_20pct)][['Open', 'High', 'Low', 'Close']].min(axis=0))\n",
        "# # max_return = max(df[(df.index < last_20pct)][['Open', 'High', 'Low', 'Close']].max(axis=0))\n",
        "\n",
        "# # Min-max normalize price columns (0-1 range)\n",
        "# # df['Open'] = (df['Open'] - min_return) / (max_return - min_return)\n",
        "# # df['High'] = (df['High'] - min_return) / (max_return - min_return)\n",
        "# # df['Low'] = (df['Low'] - min_return) / (max_return - min_return)\n",
        "# # df['Close'] = (df['Close'] - min_return) / (max_return - min_return)\n",
        "\n",
        "# ###############################################################################\n",
        "# '''Normalize volume column'''\n",
        "\n",
        "# # min_volume = df[(df.index < last_20pct)]['Volume'].min(axis=0)\n",
        "# # max_volume = df[(df.index < last_20pct)]['Volume'].max(axis=0)\n",
        "\n",
        "# # Min-max normalize volume columns (0-1 range)\n",
        "# # df['Volume'] = (df['Volume'] - min_volume) / (max_volume - min_volume)\n",
        "\n",
        "# ###############################################################################\n",
        "# '''Create training, validation and test split'''\n",
        "\n",
        "# df_train = df[(df.index < 221)]  # Training data are 80% of total data\n",
        "# # df_val = df[(df.index >= last_20pct) & (df.index < last_10pct)]\n",
        "# df_test = df\n",
        "\n",
        "# # Remove date column\n",
        "# df_train.drop(columns=['Date'], inplace=True)\n",
        "# # df_val.drop(columns=['Date'], inplace=True)\n",
        "# df_test.drop(columns=['Date'], inplace=True)\n",
        "\n",
        "# # Convert pandas columns into arrays\n",
        "# train_data = df_train.values\n",
        "# # val_data = df_val.values\n",
        "# test_data = df_test.values\n",
        "# print('Training data shape: {}'.format(train_data.shape))\n",
        "# # print('Validation data shape: {}'.format(val_data.shape))\n",
        "# print('Test data shape: {}'.format(test_data.shape))\n",
        "\n",
        "# df_train.head()"
      ]
    },
    {
      "cell_type": "markdown",
      "metadata": {
        "id": "diGgUw_f6fAI"
      },
      "source": [
        "## Plot daily changes of close prices and volume"
      ]
    },
    {
      "cell_type": "code",
      "execution_count": 42,
      "metadata": {
        "colab": {
          "base_uri": "https://localhost:8080/",
          "height": 792
        },
        "id": "MJCti1mt5lnL",
        "outputId": "810c6464-dc15-46a7-e45d-496b3a7e3b6e"
      },
      "outputs": [],
      "source": [
        "# fig = plt.figure(figsize=(15,12))\n",
        "# st = fig.suptitle(\"Data Separation\", fontsize=20)\n",
        "# st.set_y(0.95)\n",
        "\n",
        "# ###############################################################################\n",
        "\n",
        "# ax1 = fig.add_subplot(211)\n",
        "# ax1.plot(np.arange(train_data.shape[0]), df_train['Close'], label='Training data')\n",
        "\n",
        "# # ax1.plot(np.arange(train_data.shape[0], \n",
        "# #                    train_data.shape[0]+val_data.shape[0]), df_val['Close'], label='Validation data')\n",
        "\n",
        "# ax1.plot(np.arange(train_data.shape[0], \n",
        "#                    train_data.shape[0]+test_data.shape[0]), df_test['Close'], label='Test data')\n",
        "# ax1.set_xlabel('Date')\n",
        "# ax1.set_ylabel('Closing Returns')\n",
        "# ax1.set_title(\"Close Price\", fontsize=18)\n",
        "# ax1.legend(loc=\"best\", fontsize=12)\n",
        "\n",
        "# ###############################################################################\n",
        "\n",
        "# ax2 = fig.add_subplot(212)\n",
        "# ax2.plot(np.arange(train_data.shape[0]), df_train['Volume'], label='Training data')\n",
        "\n",
        "# # ax2.plot(np.arange(train_data.shape[0], \n",
        "# #                    train_data.shape[0]+val_data.shape[0]), df_val['Volume'], label='Validation data')\n",
        "\n",
        "# ax2.plot(np.arange(train_data.shape[0], \n",
        "#                    train_data.shape[0]+test_data.shape[0]), df_test['Volume'], label='Test data')\n",
        "# ax2.set_xlabel('Date')\n",
        "# ax2.set_ylabel('Normalized Volume Changes')\n",
        "# ax2.set_title(\"Volume\", fontsize=18)\n",
        "# ax2.legend(loc=\"best\", fontsize=12)"
      ]
    },
    {
      "cell_type": "markdown",
      "metadata": {
        "id": "K-9JDha_6l3L"
      },
      "source": [
        "## Create chunks of training, validation and test data"
      ]
    },
    {
      "cell_type": "code",
      "execution_count": 43,
      "metadata": {
        "colab": {
          "base_uri": "https://localhost:8080/",
          "height": 68
        },
        "id": "Ib8wOc-_5llL",
        "outputId": "74d3495e-68d3-441d-b050-ec8f134cf888"
      },
      "outputs": [],
      "source": [
        "# # Training data\n",
        "# X_train, y_train = [], []\n",
        "# for i in range(seq_len, len(train_data)):\n",
        "#   X_train.append(train_data[i-seq_len:i]) # Chunks of training data with a length of 128 df-rows\n",
        "#   y_train.append(train_data[:, 3][i]) #Value of 4th column (Close Price) of df-row 128+1\n",
        "# X_train, y_train = np.array(X_train), np.array(y_train)\n",
        "\n",
        "# ###############################################################################\n",
        "\n",
        "# # Validation data\n",
        "# # X_val, y_val = [], []\n",
        "# # for i in range(seq_len, len(val_data)):\n",
        "# #     X_val.append(val_data[i-seq_len:i])\n",
        "# #     y_val.append(val_data[:, 3][i])\n",
        "# # X_val, y_val = np.array(X_val), np.array(y_val)\n",
        "\n",
        "# ###############################################################################\n",
        "\n",
        "# # Test data\n",
        "# X_test, y_test = [], []\n",
        "# for i in range(seq_len, len(test_data)):\n",
        "#     X_test.append(test_data[i-seq_len:i])\n",
        "#     y_test.append(test_data[:, 3][i])    \n",
        "# X_test, y_test = np.array(X_test), np.array(y_test)\n",
        "\n",
        "# print('Training set shape', X_train.shape, y_train.shape)\n",
        "# # print('Validation set shape', X_val.shape, y_val.shape)\n",
        "# print('Testing set shape' ,X_test.shape, y_test.shape)"
      ]
    },
    {
      "cell_type": "code",
      "execution_count": 44,
      "metadata": {},
      "outputs": [],
      "source": [
        "# y_test,df.tail()"
      ]
    },
    {
      "cell_type": "markdown",
      "metadata": {
        "id": "5WhTPe6I6sDu"
      },
      "source": [
        "## TimeVector"
      ]
    },
    {
      "cell_type": "code",
      "execution_count": 45,
      "metadata": {
        "id": "dUawOlTD5ljR"
      },
      "outputs": [],
      "source": [
        "class Time2Vector(Layer):\n",
        "  def __init__(self, seq_len, **kwargs):\n",
        "    super(Time2Vector, self).__init__()\n",
        "    self.seq_len = seq_len\n",
        "\n",
        "  def build(self, input_shape):\n",
        "    '''Initialize weights and biases with shape (batch, seq_len)'''\n",
        "    self.weights_linear = self.add_weight(name='weight_linear',\n",
        "                                shape=(int(self.seq_len),),\n",
        "                                initializer='uniform',\n",
        "                                trainable=True)\n",
        "    \n",
        "    self.bias_linear = self.add_weight(name='bias_linear',\n",
        "                                shape=(int(self.seq_len),),\n",
        "                                initializer='uniform',\n",
        "                                trainable=True)\n",
        "    \n",
        "    self.weights_periodic = self.add_weight(name='weight_periodic',\n",
        "                                shape=(int(self.seq_len),),\n",
        "                                initializer='uniform',\n",
        "                                trainable=True)\n",
        "\n",
        "    self.bias_periodic = self.add_weight(name='bias_periodic',\n",
        "                                shape=(int(self.seq_len),),\n",
        "                                initializer='uniform',\n",
        "                                trainable=True)\n",
        "\n",
        "  def call(self, x):\n",
        "    '''Calculate linear and periodic time features'''\n",
        "    x = tf.math.reduce_mean(x[:,:,:4], axis=-1) \n",
        "    time_linear = self.weights_linear * x + self.bias_linear # Linear time feature\n",
        "    time_linear = tf.expand_dims(time_linear, axis=-1) # Add dimension (batch, seq_len, 1)\n",
        "    \n",
        "    time_periodic = tf.math.sin(tf.multiply(x, self.weights_periodic) + self.bias_periodic)\n",
        "    time_periodic = tf.expand_dims(time_periodic, axis=-1) # Add dimension (batch, seq_len, 1)\n",
        "    return tf.concat([time_linear, time_periodic], axis=-1) # shape = (batch, seq_len, 2)\n",
        "   \n",
        "  def get_config(self): # Needed for saving and loading model with custom layer\n",
        "    config = super().get_config().copy()\n",
        "    config.update({'seq_len': self.seq_len})\n",
        "    return config\n",
        "  "
      ]
    },
    {
      "cell_type": "markdown",
      "metadata": {
        "id": "hJZOW8d56wyJ"
      },
      "source": [
        "## Transformer"
      ]
    },
    {
      "cell_type": "code",
      "execution_count": 46,
      "metadata": {
        "id": "2Veb1wu_5lhE"
      },
      "outputs": [],
      "source": [
        "class SingleAttention(Layer):\n",
        "  def __init__(self, d_k, d_v):\n",
        "    super(SingleAttention, self).__init__()\n",
        "    self.d_k = d_k\n",
        "    self.d_v = d_v\n",
        "\n",
        "  def build(self, input_shape):\n",
        "    self.query = Dense(self.d_k, \n",
        "                       input_shape=input_shape, \n",
        "                       kernel_initializer='glorot_uniform', \n",
        "                       bias_initializer='glorot_uniform')\n",
        "    \n",
        "    self.key = Dense(self.d_k, \n",
        "                     input_shape=input_shape, \n",
        "                     kernel_initializer='glorot_uniform', \n",
        "                     bias_initializer='glorot_uniform')\n",
        "    \n",
        "    self.value = Dense(self.d_v, \n",
        "                       input_shape=input_shape, \n",
        "                       kernel_initializer='glorot_uniform', \n",
        "                       bias_initializer='glorot_uniform')\n",
        "\n",
        "  def call(self, inputs): # inputs = (in_seq, in_seq, in_seq)\n",
        "    q = self.query(inputs[0])\n",
        "    k = self.key(inputs[1])\n",
        "\n",
        "    attn_weights = tf.matmul(q, k, transpose_b=True)\n",
        "    attn_weights = tf.map_fn(lambda x: x/np.sqrt(self.d_k), attn_weights)\n",
        "    attn_weights = tf.nn.softmax(attn_weights, axis=-1)\n",
        "    \n",
        "    v = self.value(inputs[2])\n",
        "    attn_out = tf.matmul(attn_weights, v)\n",
        "    return attn_out    \n",
        "\n",
        "#############################################################################\n",
        "\n",
        "class MultiAttention(Layer):\n",
        "  def __init__(self, d_k, d_v, n_heads):\n",
        "    super(MultiAttention, self).__init__()\n",
        "    self.d_k = d_k\n",
        "    self.d_v = d_v\n",
        "    self.n_heads = n_heads\n",
        "    self.attn_heads = list()\n",
        "\n",
        "  def build(self, input_shape):\n",
        "    for n in range(self.n_heads):\n",
        "      self.attn_heads.append(SingleAttention(self.d_k, self.d_v))  \n",
        "    \n",
        "    # input_shape[0]=(batch, seq_len, 7), input_shape[0][-1]=7 \n",
        "    self.linear = Dense(input_shape[0][-1], \n",
        "                        input_shape=input_shape, \n",
        "                        kernel_initializer='glorot_uniform', \n",
        "                        bias_initializer='glorot_uniform')\n",
        "\n",
        "  def call(self, inputs):\n",
        "    attn = [self.attn_heads[i](inputs) for i in range(self.n_heads)]\n",
        "    concat_attn = tf.concat(attn, axis=-1)\n",
        "    multi_linear = self.linear(concat_attn)\n",
        "    return multi_linear   \n",
        "\n",
        "#############################################################################\n",
        "\n",
        "class TransformerEncoder(Layer):\n",
        "  def __init__(self, d_k, d_v, n_heads, ff_dim, dropout=0.1, **kwargs):\n",
        "    super(TransformerEncoder, self).__init__()\n",
        "    self.d_k = d_k\n",
        "    self.d_v = d_v\n",
        "    self.n_heads = n_heads\n",
        "    self.ff_dim = ff_dim\n",
        "    self.attn_heads = list()\n",
        "    self.dropout_rate = dropout\n",
        "\n",
        "  def build(self, input_shape):\n",
        "    self.attn_multi = MultiAttention(self.d_k, self.d_v, self.n_heads)\n",
        "    self.attn_dropout = Dropout(self.dropout_rate)\n",
        "    self.attn_normalize = LayerNormalization(input_shape=input_shape, epsilon=1e-6)\n",
        "\n",
        "    self.ff_conv1D_1 = Conv1D(filters=self.ff_dim, kernel_size=1, activation='relu')\n",
        "    # input_shape[0]=(batch, seq_len, 7), input_shape[0][-1] = 7 \n",
        "    self.ff_conv1D_se1 = Conv1D(filters=self.ff_dim//2, kernel_size=1)\n",
        "    self.ff_conv1D_se2 = Conv1D(filters=self.ff_dim, kernel_size=1,activation='sigmoid')\n",
        "    self.ff_conv1D_2 = Conv1D(filters=input_shape[0][-1], kernel_size=1) \n",
        "    self.ff_dropout = Dropout(self.dropout_rate)\n",
        "    self.ff_normalize = LayerNormalization(input_shape=input_shape, epsilon=1e-6)    \n",
        "  \n",
        "  def call(self, inputs): # inputs = (in_seq, in_seq, in_seq)\n",
        "    attn_layer = self.attn_multi(inputs)\n",
        "    attn_layer = self.attn_dropout(attn_layer)\n",
        "    attn_layer = self.attn_normalize(inputs[0] + attn_layer)\n",
        "\n",
        "    ff_layer = self.ff_conv1D_1(attn_layer)\n",
        "    aa_layer = self.ff_conv1D_se1(ff_layer)\n",
        "    aa_layer = self.ff_dropout(aa_layer)\n",
        "    aa_layer = self.ff_conv1D_se2(aa_layer)\n",
        "    aa_layer = self.ff_dropout(aa_layer)\n",
        "    ff_layer = aa_layer+ff_layer\n",
        "    ff_layer = self.ff_conv1D_2(ff_layer)\n",
        "    ff_layer = self.ff_dropout(ff_layer)\n",
        "    ff_layer = self.ff_normalize(inputs[0] + ff_layer)\n",
        "    return ff_layer \n",
        "\n",
        "  def get_config(self): # Needed for saving and loading model with custom layer\n",
        "    config = super().get_config().copy()\n",
        "    config.update({'d_k': self.d_k,\n",
        "                   'd_v': self.d_v,\n",
        "                   'n_heads': self.n_heads,\n",
        "                   'ff_dim': self.ff_dim,\n",
        "                   'attn_heads': self.attn_heads,\n",
        "                   'dropout_rate': self.dropout_rate})\n",
        "    return config          "
      ]
    },
    {
      "cell_type": "markdown",
      "metadata": {
        "id": "OtBanXmQB4jF"
      },
      "source": [
        "## Model"
      ]
    },
    {
      "cell_type": "code",
      "execution_count": 47,
      "metadata": {
        "colab": {
          "base_uri": "https://localhost:8080/",
          "height": 1000
        },
        "id": "n1z9GgwV5lZe",
        "outputId": "3a97e918-00c4-4aaf-c0d6-1fd821ce868c"
      },
      "outputs": [],
      "source": [
        "# def create_model():\n",
        "#   '''Initialize time and transformer layers'''\n",
        "#   time_embedding = Time2Vector(seq_len)\n",
        "#   attn_layer1 = TransformerEncoder(d_k, d_v, n_heads, ff_dim)\n",
        "#   attn_layer2 = TransformerEncoder(d_k, d_v, n_heads, ff_dim)\n",
        "#   attn_layer3 = TransformerEncoder(d_k, d_v, n_heads, ff_dim)\n",
        "\n",
        "#   '''Construct model'''\n",
        "#   in_seq = Input(shape=(seq_len, 5))\n",
        "#   x = time_embedding(in_seq)\n",
        "#   x = Concatenate(axis=-1)([in_seq, x])\n",
        "#   x = attn_layer1((x, x, x))\n",
        "#   x = attn_layer2((x, x, x))\n",
        "#   x = attn_layer3((x, x, x))\n",
        "#   x = GlobalAveragePooling1D(data_format='channels_first')(x)\n",
        "#   x = Dropout(0.1)(x)\n",
        "#   x = Dense(64, activation='relu')(x)\n",
        "#   x = Dropout(0.1)(x)\n",
        "#   out = Dense(1, activation='linear')(x)\n",
        "\n",
        "#   model = Model(inputs=in_seq, outputs=out)\n",
        "#   model.compile(loss='mse', optimizer='adam', metrics=['mae', 'mape'])\n",
        "#   return model\n",
        "\n",
        "\n",
        "# model = create_model()\n",
        "# model.summary()\n",
        "\n",
        "# # callback = tf.keras.callbacks.ModelCheckpoint('Transformer+TimeEmbedding.hdf5', \n",
        "# #                                               monitor=None, \n",
        "# #                                               save_best_only=False, verbose=1)\n",
        "\n",
        "# history = model.fit(X_train, y_train, \n",
        "#                     batch_size=batch_size, \n",
        "#                     epochs=500, )\n",
        "#                     # validation_data=(X_val, y_val)) \n",
        "# model.save('./Transformer+TimeEmbedding.hdf5')\n",
        "# model = tf.keras.models.load_model('./Transformer+TimeEmbedding.hdf5',\n",
        "#                                    custom_objects={'Time2Vector': Time2Vector, \n",
        "#                                                    'SingleAttention': SingleAttention,\n",
        "#                                                    'MultiAttention': MultiAttention,\n",
        "#                                                    'TransformerEncoder': TransformerEncoder})\n",
        "\n",
        "\n",
        "# ###############################################################################\n",
        "# '''Calculate predictions and metrics'''\n",
        "\n",
        "# #Calculate predication for training, validation and test data\n",
        "# train_pred = model.predict(X_train)\n",
        "# # val_pred = model.predict(X_val)\n",
        "# test_pred = model.predict(X_test)\n",
        "\n",
        "# #Print evaluation metrics for all datasets\n",
        "# train_eval = model.evaluate(X_train, y_train, verbose=0)\n",
        "# # val_eval = model.evaluate(X_val, y_val, verbose=0)\n",
        "# test_eval = model.evaluate(X_test, y_test, verbose=0)\n",
        "# print(' ')\n",
        "# print('Evaluation metrics')\n",
        "# print('Training Data - Loss: {:.4f}, MAE: {:.4f}, MAPE: {:.4f}'.format(train_eval[0], train_eval[1], train_eval[2]))\n",
        "# # print('Validation Data - Loss: {:.4f}, MAE: {:.4f}, MAPE: {:.4f}'.format(val_eval[0], val_eval[1], val_eval[2]))\n",
        "# print('Test Data - Loss: {:.4f}, MAE: {:.4f}, MAPE: {:.4f}'.format(test_eval[0], test_eval[1], test_eval[2]))\n",
        "\n",
        "# ###############################################################################\n",
        "# '''Display results'''\n",
        "\n",
        "# fig = plt.figure(figsize=(15,20))\n",
        "# st = fig.suptitle(\"Transformer + TimeEmbedding Model\", fontsize=22)\n",
        "# st.set_y(0.92)\n",
        "\n",
        "# #Plot training data results\n",
        "# ax11 = fig.add_subplot(311)\n",
        "# ax11.plot(train_data[:, 3], label='Tesla Closing Returns')\n",
        "# ax11.plot(np.arange(seq_len, train_pred.shape[0]+seq_len), train_pred, linewidth=3, label='Predicted Tesla Closing Returns')\n",
        "# ax11.set_title(\"Training Data\", fontsize=18)\n",
        "# ax11.set_xlabel('Date')\n",
        "# ax11.set_ylabel('Tesla Closing Returns')\n",
        "# ax11.legend(loc=\"best\", fontsize=12)\n",
        "\n",
        "# # #Plot validation data results\n",
        "# # ax21 = fig.add_subplot(312)\n",
        "# # ax21.plot(val_data[:, 3], label='Tesla Closing Returns')\n",
        "# # ax21.plot(np.arange(seq_len, val_pred.shape[0]+seq_len), val_pred, linewidth=3, label='Predicted Tesla Closing Returns')\n",
        "# # ax21.set_title(\"Validation Data\", fontsize=18)\n",
        "# # ax21.set_xlabel('Date')\n",
        "# # ax21.set_ylabel('Tesla Closing Returns')\n",
        "# # ax21.legend(loc=\"best\", fontsize=12)\n",
        "\n",
        "# #Plot test data results\n",
        "# ax31 = fig.add_subplot(313)\n",
        "# ax31.plot(test_data[:, 3], label='Tesla Closing Returns')\n",
        "# ax31.plot(np.arange(seq_len, test_pred.shape[0]+seq_len), test_pred, linewidth=3, label='Predicted Tesla Closing Returns')\n",
        "# ax31.set_title(\"Test Data\", fontsize=18)\n",
        "# ax31.set_xlabel('Date')\n",
        "# ax31.set_ylabel('Tesla Closing Returns')\n",
        "# ax31.legend(loc=\"best\", fontsize=12)"
      ]
    },
    {
      "cell_type": "markdown",
      "metadata": {
        "id": "QiCB_z-iCMMr"
      },
      "source": [
        "## Model metrics"
      ]
    },
    {
      "cell_type": "code",
      "execution_count": 48,
      "metadata": {
        "colab": {
          "base_uri": "https://localhost:8080/",
          "height": 1000
        },
        "id": "maSSTkJPCOE8",
        "outputId": "5a802a5b-bfc7-47c0-987a-8fca1ab84226"
      },
      "outputs": [],
      "source": [
        "# '''Display model metrics'''\n",
        "\n",
        "# fig = plt.figure(figsize=(15,20))\n",
        "# st = fig.suptitle(\"Transformer + TimeEmbedding Model Metrics\", fontsize=22)\n",
        "# st.set_y(0.92)\n",
        "\n",
        "# #Plot model loss\n",
        "# ax1 = fig.add_subplot(311)\n",
        "# ax1.plot(history.history['loss'], label='Training loss (MSE)')\n",
        "# # ax1.plot(history.history['val_loss'], label='Validation loss (MSE)')\n",
        "# ax1.set_title(\"Model loss\", fontsize=18)\n",
        "# ax1.set_xlabel('Epoch')\n",
        "# ax1.set_ylabel('Loss (MSE)')\n",
        "# ax1.legend(loc=\"best\", fontsize=12)\n",
        "\n",
        "# #Plot MAE\n",
        "# ax2 = fig.add_subplot(312)\n",
        "# ax2.plot(history.history['mae'], label='Training MAE')\n",
        "# # ax2.plot(history.history['val_mae'], label='Validation MAE')\n",
        "# ax2.set_title(\"Model metric - Mean average error (MAE)\", fontsize=18)\n",
        "# ax2.set_xlabel('Epoch')\n",
        "# ax2.set_ylabel('Mean average error (MAE)')\n",
        "# ax2.legend(loc=\"best\", fontsize=12)\n",
        "\n",
        "# #Plot MAPE\n",
        "# ax3 = fig.add_subplot(313)\n",
        "# ax3.plot(history.history['mape'], label='Training MAPE')\n",
        "# # ax3.plot(history.history['val_mape'], label='Validation MAPE')\n",
        "# ax3.set_title(\"Model metric - Mean average percentage error (MAPE)\", fontsize=18)\n",
        "# ax3.set_xlabel('Epoch')\n",
        "# ax3.set_ylabel('Mean average percentage error (MAPE)')\n",
        "# ax3.legend(loc=\"best\", fontsize=12)"
      ]
    },
    {
      "cell_type": "markdown",
      "metadata": {
        "id": "5cvzV1ArCOwK"
      },
      "source": [
        "## Model architecture overview"
      ]
    },
    {
      "cell_type": "code",
      "execution_count": 49,
      "metadata": {
        "colab": {
          "base_uri": "https://localhost:8080/",
          "height": 1000
        },
        "id": "7b--iZiKCO5l",
        "outputId": "fa273886-666a-4ead-8d9e-e12083d4907b"
      },
      "outputs": [],
      "source": [
        "# tf.keras.utils.plot_model(\n",
        "#     model,\n",
        "#     to_file=\"Tesla_Transformer+TimeEmbedding.png\",\n",
        "#     show_shapes=True,\n",
        "#     show_layer_names=True,\n",
        "#     expand_nested=True,\n",
        "#     dpi=96,)"
      ]
    },
    {
      "cell_type": "markdown",
      "metadata": {
        "id": "SXm-L7Y7SXY4"
      },
      "source": [
        "# Moving Average"
      ]
    },
    {
      "cell_type": "markdown",
      "metadata": {
        "id": "fWDD3gi0SkBT"
      },
      "source": [
        "## Moving Average - Load Tesla data again, to apply rolling window"
      ]
    },
    {
      "cell_type": "code",
      "execution_count": 50,
      "metadata": {},
      "outputs": [],
      "source": [
        "# test_size = 30"
      ]
    },
    {
      "cell_type": "code",
      "execution_count": 51,
      "metadata": {},
      "outputs": [],
      "source": [
        "# from sklearn.preprocessing import MinMaxScaler\n",
        "# Tesla_path = '../dataset/TSLA.csv'\n",
        "# df = pd.read_csv(Tesla_path, delimiter=',', usecols=['Date', 'Open', 'High', 'Low', 'Close','Adj Close','Volume'])\n",
        "# df.head()\n",
        "\n",
        "\n"
      ]
    },
    {
      "cell_type": "code",
      "execution_count": 52,
      "metadata": {},
      "outputs": [],
      "source": [
        "# minmax = MinMaxScaler().fit(df.iloc[:, 4:5].astype('float32')) # Close index\n",
        "# df_log = minmax.transform(df.iloc[:, 4:5].astype('float32')) # Close index\n",
        "# df_log = pd.DataFrame(df_log)\n",
        "# df_log.head()"
      ]
    },
    {
      "cell_type": "code",
      "execution_count": 53,
      "metadata": {},
      "outputs": [],
      "source": [
        "# df_train = df_log.iloc[:-test_size]\n",
        "# df_test = df_log.iloc[-test_size:]\n",
        "# df.shape, df_train.shape, df_test.shape"
      ]
    },
    {
      "cell_type": "code",
      "execution_count": 54,
      "metadata": {},
      "outputs": [
        {
          "data": {
            "text/html": [
              "<div>\n",
              "<style scoped>\n",
              "    .dataframe tbody tr th:only-of-type {\n",
              "        vertical-align: middle;\n",
              "    }\n",
              "\n",
              "    .dataframe tbody tr th {\n",
              "        vertical-align: top;\n",
              "    }\n",
              "\n",
              "    .dataframe thead th {\n",
              "        text-align: right;\n",
              "    }\n",
              "</style>\n",
              "<table border=\"1\" class=\"dataframe\">\n",
              "  <thead>\n",
              "    <tr style=\"text-align: right;\">\n",
              "      <th></th>\n",
              "      <th>Date</th>\n",
              "      <th>Open</th>\n",
              "      <th>High</th>\n",
              "      <th>Low</th>\n",
              "      <th>Close</th>\n",
              "      <th>Volume</th>\n",
              "    </tr>\n",
              "  </thead>\n",
              "  <tbody>\n",
              "    <tr>\n",
              "      <th>4990</th>\n",
              "      <td>20000907</td>\n",
              "      <td>17.745</td>\n",
              "      <td>17.848</td>\n",
              "      <td>17.545</td>\n",
              "      <td>17.629</td>\n",
              "      <td>39335.663</td>\n",
              "    </tr>\n",
              "    <tr>\n",
              "      <th>4989</th>\n",
              "      <td>20000908</td>\n",
              "      <td>17.630</td>\n",
              "      <td>17.737</td>\n",
              "      <td>17.435</td>\n",
              "      <td>17.514</td>\n",
              "      <td>38651.163</td>\n",
              "    </tr>\n",
              "    <tr>\n",
              "      <th>4988</th>\n",
              "      <td>20000911</td>\n",
              "      <td>17.513</td>\n",
              "      <td>17.637</td>\n",
              "      <td>17.318</td>\n",
              "      <td>17.400</td>\n",
              "      <td>37478.563</td>\n",
              "    </tr>\n",
              "    <tr>\n",
              "      <th>4987</th>\n",
              "      <td>20000912</td>\n",
              "      <td>17.399</td>\n",
              "      <td>17.551</td>\n",
              "      <td>17.212</td>\n",
              "      <td>17.314</td>\n",
              "      <td>36772.263</td>\n",
              "    </tr>\n",
              "    <tr>\n",
              "      <th>4986</th>\n",
              "      <td>20000913</td>\n",
              "      <td>17.311</td>\n",
              "      <td>17.521</td>\n",
              "      <td>17.144</td>\n",
              "      <td>17.265</td>\n",
              "      <td>38867.663</td>\n",
              "    </tr>\n",
              "  </tbody>\n",
              "</table>\n",
              "</div>"
            ],
            "text/plain": [
              "          Date    Open    High     Low   Close     Volume\n",
              "4990  20000907  17.745  17.848  17.545  17.629  39335.663\n",
              "4989  20000908  17.630  17.737  17.435  17.514  38651.163\n",
              "4988  20000911  17.513  17.637  17.318  17.400  37478.563\n",
              "4987  20000912  17.399  17.551  17.212  17.314  36772.263\n",
              "4986  20000913  17.311  17.521  17.144  17.265  38867.663"
            ]
          },
          "execution_count": 54,
          "metadata": {},
          "output_type": "execute_result"
        }
      ],
      "source": [
        "Tesla_path = '/home/donglong_4/pro001.csv'\n",
        "df = pd.read_csv(Tesla_path, delimiter=',', usecols=['ts_code','Date','Open','High','Low','Close','pre_close','change','pct_chg','Volume','amount'])\n",
        "df['Volume'].replace(to_replace=0, method='ffill', inplace=True) \n",
        "df.sort_values('Date', inplace=True)\n",
        "df.drop(labels='ts_code',axis=1,inplace=True)\n",
        "df.drop(labels='pre_close',axis=1,inplace=True)\n",
        "df.drop(labels='pct_chg',axis=1,inplace=True)\n",
        "df.drop(labels='change',axis=1,inplace=True)\n",
        "df.drop(labels='amount',axis=1,inplace=True)\n",
        "df[['Open', 'High', 'Low', 'Close','Volume']] = df[['Open', 'High', 'Low', 'Close','Volume']].rolling(10).mean()\n",
        "# df.drop('index')\n",
        "df.dropna(how='any', axis=0, inplace=True) \n",
        "df.head()"
      ]
    },
    {
      "cell_type": "code",
      "execution_count": 55,
      "metadata": {
        "colab": {
          "base_uri": "https://localhost:8080/",
          "height": 202
        },
        "id": "I6ShhyS6Sajz",
        "outputId": "c9f3e294-d45f-4587-938b-0d00017e75e0"
      },
      "outputs": [],
      "source": [
        "# Tesla_path = '../dataset/TSLA.csv'\n",
        "\n",
        "# df = pd.read_csv(Tesla_path, delimiter=',', usecols=['Date', 'Open', 'High', 'Low', 'Close','Adj Close','Volume'])\n",
        "# df.drop(labels='Adj Close',axis=1,inplace=True)\n",
        "# # Replace 0 to avoid dividing by 0 later on\n",
        "# df['Volume'].replace(to_replace=0, method='ffill', inplace=True) \n",
        "# df.sort_values('Date', inplace=True)\n",
        "\n",
        "# # Apply moving average with a window of 10 days to all columns\n",
        "# df[['Open', 'High', 'Low', 'Close','Volume']] = df[['Open', 'High', 'Low', 'Close','Volume']].rolling(10).mean() \n",
        "\n",
        "# # Drop all rows with NaN values\n",
        "# df.dropna(how='any', axis=0, inplace=True) \n",
        "# df.head()"
      ]
    },
    {
      "cell_type": "markdown",
      "metadata": {
        "id": "Qh7gRX0FS-xZ"
      },
      "source": [
        "## Moving Average - Plot daily Tesla closing prices and volume"
      ]
    },
    {
      "cell_type": "code",
      "execution_count": 56,
      "metadata": {
        "colab": {
          "base_uri": "https://localhost:8080/",
          "height": 637
        },
        "id": "JT97nI1sSafp",
        "outputId": "5f49e92f-9ba3-4eda-f7b1-9f33e7ebe028"
      },
      "outputs": [
        {
          "data": {
            "text/plain": [
              "<matplotlib.legend.Legend at 0x7fa64018f710>"
            ]
          },
          "execution_count": 56,
          "metadata": {},
          "output_type": "execute_result"
        },
        {
          "data": {
            "image/png": "[encoded data removed]",
            "text/plain": [
              "<Figure size 1080x720 with 2 Axes>"
            ]
          },
          "metadata": {},
          "output_type": "display_data"
        }
      ],
      "source": [
        "fig = plt.figure(figsize=(15,10))\n",
        "st = fig.suptitle(\"Tesla Close Price and Volume\", fontsize=20)\n",
        "st.set_y(0.92)\n",
        "\n",
        "ax1 = fig.add_subplot(211)\n",
        "ax1.plot(df['Close'], label='Tesla Close Price')\n",
        "ax1.set_xticks(range(0, df.shape[0], 30))\n",
        "ax1.set_xticklabels(df['Date'].loc[::30])\n",
        "ax1.set_ylabel('Close Price', fontsize=18)\n",
        "ax1.legend(loc=\"upper left\", fontsize=12)\n",
        "\n",
        "ax2 = fig.add_subplot(212)\n",
        "ax2.plot(df['Volume'], label='Tesla Volume')\n",
        "ax2.set_xticks(range(0, df.shape[0], 30))\n",
        "ax2.set_xticklabels(df['Date'].loc[::30])\n",
        "ax2.set_ylabel('Volume', fontsize=18)\n",
        "ax2.legend(loc=\"upper left\", fontsize=12)"
      ]
    },
    {
      "cell_type": "markdown",
      "metadata": {
        "id": "WaGiU_wgTYqu"
      },
      "source": [
        "## Moving Average - Calculate normalized percentage change for all columns"
      ]
    },
    {
      "cell_type": "code",
      "execution_count": 57,
      "metadata": {
        "colab": {
          "base_uri": "https://localhost:8080/",
          "height": 255
        },
        "id": "xOQVdn5TSaZs",
        "outputId": "e5a2ec9e-2f3a-4e03-b545-a0d5172acaea"
      },
      "outputs": [
        {
          "name": "stdout",
          "output_type": "stream",
          "text": [
            "Training data shape: (3992, 5)\n",
            "Test data shape: (499, 5)\n",
            "          Open      High       Low     Close    Volume\n",
            "3991  0.767634  0.737771  0.755943  0.724929  0.252898\n",
            "3990  0.717303  0.722687  0.728284  0.733634  0.193331\n",
            "3989  0.734705  0.734492  0.738151  0.736864  0.251880\n",
            "3988  0.735756  0.717320  0.721676  0.714054  0.269655\n",
            "3987  0.707561  0.702320  0.704161  0.702120  0.239555\n"
          ]
        },
        {
          "data": {
            "text/html": [
              "<div>\n",
              "<style scoped>\n",
              "    .dataframe tbody tr th:only-of-type {\n",
              "        vertical-align: middle;\n",
              "    }\n",
              "\n",
              "    .dataframe tbody tr th {\n",
              "        vertical-align: top;\n",
              "    }\n",
              "\n",
              "    .dataframe thead th {\n",
              "        text-align: right;\n",
              "    }\n",
              "</style>\n",
              "<table border=\"1\" class=\"dataframe\">\n",
              "  <thead>\n",
              "    <tr style=\"text-align: right;\">\n",
              "      <th></th>\n",
              "      <th>Open</th>\n",
              "      <th>High</th>\n",
              "      <th>Low</th>\n",
              "      <th>Close</th>\n",
              "      <th>Volume</th>\n",
              "    </tr>\n",
              "  </thead>\n",
              "  <tbody>\n",
              "    <tr>\n",
              "      <th>4989</th>\n",
              "      <td>0.667692</td>\n",
              "      <td>0.669738</td>\n",
              "      <td>0.669343</td>\n",
              "      <td>0.667358</td>\n",
              "      <td>0.273292</td>\n",
              "    </tr>\n",
              "    <tr>\n",
              "      <th>4988</th>\n",
              "      <td>0.666474</td>\n",
              "      <td>0.674285</td>\n",
              "      <td>0.665893</td>\n",
              "      <td>0.667470</td>\n",
              "      <td>0.261198</td>\n",
              "    </tr>\n",
              "    <tr>\n",
              "      <th>4987</th>\n",
              "      <td>0.667467</td>\n",
              "      <td>0.680245</td>\n",
              "      <td>0.670507</td>\n",
              "      <td>0.679725</td>\n",
              "      <td>0.271942</td>\n",
              "    </tr>\n",
              "    <tr>\n",
              "      <th>4986</th>\n",
              "      <td>0.678824</td>\n",
              "      <td>0.705019</td>\n",
              "      <td>0.687484</td>\n",
              "      <td>0.696251</td>\n",
              "      <td>0.342837</td>\n",
              "    </tr>\n",
              "    <tr>\n",
              "      <th>4985</th>\n",
              "      <td>0.696247</td>\n",
              "      <td>0.697405</td>\n",
              "      <td>0.690099</td>\n",
              "      <td>0.689844</td>\n",
              "      <td>0.227904</td>\n",
              "    </tr>\n",
              "  </tbody>\n",
              "</table>\n",
              "</div>"
            ],
            "text/plain": [
              "          Open      High       Low     Close    Volume\n",
              "4989  0.667692  0.669738  0.669343  0.667358  0.273292\n",
              "4988  0.666474  0.674285  0.665893  0.667470  0.261198\n",
              "4987  0.667467  0.680245  0.670507  0.679725  0.271942\n",
              "4986  0.678824  0.705019  0.687484  0.696251  0.342837\n",
              "4985  0.696247  0.697405  0.690099  0.689844  0.227904"
            ]
          },
          "execution_count": 57,
          "metadata": {},
          "output_type": "execute_result"
        }
      ],
      "source": [
        "'''Calculate percentage change'''\n",
        "\n",
        "df['Open'] = df['Open'].pct_change() # Create arithmetic returns column\n",
        "df['High'] = df['High'].pct_change() # Create arithmetic returns column\n",
        "df['Low'] = df['Low'].pct_change()# Create arithmetic returns column\n",
        "df['Close'] = df['Close'].pct_change() # Create arithmetic returns column\n",
        "df['Volume'] = df['Volume'].pct_change()\n",
        "\n",
        "df.dropna(how='any', axis=0, inplace=True) # Drop all rows with NaN values\n",
        "\n",
        "###############################################################################\n",
        "'''Create indexes to split dataset'''\n",
        "\n",
        "times = sorted(df.index.values)\n",
        "last_10pct = sorted(df.index.values)[-int(0.1*len(times))] # Last 10% of series\n",
        "last_20pct = sorted(df.index.values)[-int(0.2*len(times))] # Last 20% of series\n",
        "\n",
        "###############################################################################\n",
        "'''Normalize price columns'''\n",
        "#\n",
        "min_return = min(df[(df.index < last_20pct)][['Open', 'High', 'Low', 'Close']].min(axis=0))\n",
        "max_return = max(df[(df.index < last_20pct)][['Open', 'High', 'Low', 'Close']].max(axis=0))\n",
        "\n",
        "# Min-max normalize price columns (0-1 range)\n",
        "df['Open'] = (df['Open'] - min_return) / (max_return - min_return)\n",
        "df['High'] = (df['High'] - min_return) / (max_return - min_return)\n",
        "df['Low'] = (df['Low'] - min_return) / (max_return - min_return)\n",
        "df['Close'] = (df['Close'] - min_return) / (max_return - min_return)\n",
        "\n",
        "###############################################################################\n",
        "'''Normalize volume column'''\n",
        "\n",
        "min_volume = df[(df.index < last_20pct)]['Volume'].min(axis=0)\n",
        "max_volume = df[(df.index < last_20pct)]['Volume'].max(axis=0)\n",
        "\n",
        "# Min-max normalize volume columns (0-1 range)\n",
        "df['Volume'] = (df['Volume'] - min_volume) / (max_volume - min_volume)\n",
        "\n",
        "###############################################################################\n",
        "'''Create training, validation and test split'''\n",
        "\n",
        "df_train = df[df.index<last_20pct] # Training data are 80% of total data\n",
        "df_val = df[(df.index >= last_20pct) & (df.index < last_10pct)]\n",
        "df_test = df[df.index>=last_10pct]\n",
        "\n",
        "# Remove date column\n",
        "df_train.drop(columns=['Date'], inplace=True)\n",
        "df_val.drop(columns=['Date'], inplace=True)\n",
        "df_test.drop(columns=['Date'], inplace=True)\n",
        "\n",
        "# Convert pandas columns into arrays\n",
        "train_data = df_train.values\n",
        "val_data = df_val.values\n",
        "test_data = df_test.values\n",
        "print('Training data shape: {}'.format(train_data.shape))\n",
        "# print('Validation data shape: {}'.format(val_data.shape))\n",
        "print('Test data shape: {}'.format(test_data.shape))\n",
        "\n",
        "print(df_train.head())\n",
        "df_test.head()"
      ]
    },
    {
      "cell_type": "code",
      "execution_count": 58,
      "metadata": {},
      "outputs": [],
      "source": [
        "# df_train.head"
      ]
    },
    {
      "cell_type": "markdown",
      "metadata": {
        "id": "Moj1_tbiTfdc"
      },
      "source": [
        "## Moving Average - Plot daily changes of close price and volume"
      ]
    },
    {
      "cell_type": "code",
      "execution_count": 59,
      "metadata": {
        "colab": {
          "base_uri": "https://localhost:8080/",
          "height": 792
        },
        "id": "UfHJUSEPSaWi",
        "outputId": "110e6214-8793-44a3-d3cd-fb004a75d28d"
      },
      "outputs": [],
      "source": [
        "# fig = plt.figure(figsize=(15,12))\n",
        "# st = fig.suptitle(\"Data Separation\", fontsize=20)\n",
        "# st.set_y(0.95)\n",
        "\n",
        "# ###############################################################################\n",
        "\n",
        "# ax1 = fig.add_subplot(211)\n",
        "# ax1.plot(np.arange(train_data.shape[0]), df_train['Close'], label='Training data')\n",
        "\n",
        "# # ax1.plot(np.arange(train_data.shape[0], \n",
        "# #                    train_data.shape[0]+val_data.shape[0]), df_val['Close'], label='Validation data')\n",
        "\n",
        "# ax1.plot(np.arange(train_data.shape[0], \n",
        "#                    train_data.shape[0]+test_data.shape[0]), df_test['Close'], label='Test data')\n",
        "# ax1.set_xlabel('Date')\n",
        "# ax1.set_ylabel('Closing Returns')\n",
        "# ax1.set_title(\"Close Price\", fontsize=18)\n",
        "# ax1.legend(loc=\"best\", fontsize=12)\n",
        "\n",
        "# ###############################################################################\n",
        "\n",
        "# ax2 = fig.add_subplot(212)\n",
        "# ax2.plot(np.arange(train_data.shape[0]), df_train['Volume'], label='Training data')\n",
        "\n",
        "# # ax2.plot(np.arange(train_data.shape[0], \n",
        "# #                    train_data.shape[0]+val_data.shape[0]), df_val['Volume'], label='Validation data')\n",
        "\n",
        "# ax2.plot(np.arange(train_data.shape[0], \n",
        "#                    train_data.shape[0]+test_data.shape[0]), df_test['Volume'], label='Test data')\n",
        "# ax2.set_xlabel('Date')\n",
        "# ax2.set_ylabel('Normalized Volume Changes')\n",
        "# ax2.set_title(\"Volume\", fontsize=18)\n",
        "# ax2.legend(loc=\"best\", fontsize=12)"
      ]
    },
    {
      "cell_type": "markdown",
      "metadata": {
        "id": "nkh2TIurTjOO"
      },
      "source": [
        "## Moving Average - Create chunks of training, validation, and test data"
      ]
    },
    {
      "cell_type": "code",
      "execution_count": 60,
      "metadata": {},
      "outputs": [
        {
          "name": "stdout",
          "output_type": "stream",
          "text": [
            "Training set shape (3736, 256, 5) (3736,)\n",
            "Validation set shape (243, 256, 5) (243,)\n",
            "Testing set shape (243, 256, 5) (243,)\n"
          ]
        }
      ],
      "source": [
        "# Training data\n",
        "X_train, y_train = [], []\n",
        "for i in range(seq_len, len(train_data)):\n",
        "  X_train.append(train_data[i-seq_len:i]) # Chunks of training data with a length of 128 df-rows\n",
        "  y_train.append(train_data[:, 3][i]) #Value of 4th column (Close Price) of df-row 128+1\n",
        "X_train, y_train = np.array(X_train), np.array(y_train)\n",
        "\n",
        "##############################################################################\n",
        "\n",
        "# Validation data\n",
        "X_val, y_val = [], []\n",
        "for i in range(seq_len, len(val_data)):\n",
        "    X_val.append(val_data[i-seq_len:i])\n",
        "    y_val.append(val_data[:, 3][i])\n",
        "X_val, y_val = np.array(X_val), np.array(y_val)\n",
        "\n",
        "##############################################################################\n",
        "\n",
        "# Test data\n",
        "X_test, y_test = [], []\n",
        "for i in range(seq_len, len(test_data)):\n",
        "    X_test.append(test_data[i-seq_len:i])\n",
        "    y_test.append(test_data[:, 3][i])    \n",
        "X_test, y_test = np.array(X_test), np.array(y_test)\n",
        "\n",
        "print('Training set shape', X_train.shape, y_train.shape)\n",
        "print('Validation set shape', X_val.shape, y_val.shape)\n",
        "print('Testing set shape' ,X_test.shape, y_test.shape)"
      ]
    },
    {
      "cell_type": "code",
      "execution_count": 61,
      "metadata": {},
      "outputs": [
        {
          "data": {
            "text/plain": [
              "array([0.66769195, 0.66973779, 0.66934344, 0.66735834, 0.27329242])"
            ]
          },
          "execution_count": 61,
          "metadata": {},
          "output_type": "execute_result"
        }
      ],
      "source": [
        "X_test[0][0][:]"
      ]
    },
    {
      "cell_type": "code",
      "execution_count": 62,
      "metadata": {
        "colab": {
          "base_uri": "https://localhost:8080/",
          "height": 51
        },
        "id": "O4YOIvAuTj4S",
        "outputId": "13902840-6cb9-46ff-9256-fc68dcd61296"
      },
      "outputs": [],
      "source": [
        "# # Training data\n",
        "# X_train, y_train = [], []\n",
        "# for i in range(seq_len, len(train_data)-5):\n",
        "#   X_train.append(train_data[i-seq_len:i]) # Chunks of training data with a length of 128 df-rows\n",
        "#   y_train.append(train_data[:, 3][i+5]) #Value of 4th column (Close Price) of df-row 128+1\n",
        "# X_train, y_train = np.array(X_train), np.array(y_train)\n",
        "\n",
        "# ###############################################################################\n",
        "\n",
        "# # # Validation data\n",
        "# # X_val, y_val = [], []\n",
        "# # for i in range(seq_len, len(val_data)):\n",
        "# #     X_val.append(val_data[i-seq_len:i])\n",
        "# #     y_val.append(val_data[:, 3][i])\n",
        "# # X_val, y_val = np.array(X_val), np.array(y_val)\n",
        "\n",
        "# ###############################################################################\n",
        "\n",
        "# # Test data\n",
        "# X_test, y_test = [], []\n",
        "# for i in range(seq_len, len(test_data)-5):\n",
        "#     X_test.append(test_data[i-seq_len])\n",
        "#     y_test.append(test_data[:, 3][i+5])\n",
        "# X_test, y_test = np.array(X_test), np.array(y_test)\n",
        "\n",
        "# print(X_train.shape, y_train.shape)\n",
        "# # print(X_val.shape, y_val.shape)"
      ]
    },
    {
      "cell_type": "code",
      "execution_count": 63,
      "metadata": {},
      "outputs": [
        {
          "name": "stdout",
          "output_type": "stream",
          "text": [
            "(243, 256, 5)\n"
          ]
        }
      ],
      "source": [
        "print(X_test.shape)"
      ]
    },
    {
      "cell_type": "markdown",
      "metadata": {
        "id": "ns21gno_T2xy"
      },
      "source": [
        "## Moving Average - Model"
      ]
    },
    {
      "cell_type": "code",
      "execution_count": 64,
      "metadata": {},
      "outputs": [],
      "source": [
        "# X_train[0]"
      ]
    },
    {
      "cell_type": "code",
      "execution_count": 65,
      "metadata": {},
      "outputs": [
        {
          "data": {
            "text/plain": [
              "(243,)"
            ]
          },
          "execution_count": 65,
          "metadata": {},
          "output_type": "execute_result"
        }
      ],
      "source": [
        "y_test.shape"
      ]
    },
    {
      "cell_type": "code",
      "execution_count": 66,
      "metadata": {
        "colab": {
          "base_uri": "https://localhost:8080/",
          "height": 1000
        },
        "id": "_1oy3O71Tjyv",
        "outputId": "c431669a-ae34-42bc-b27c-3a40b20b0051"
      },
      "outputs": [
        {
          "name": "stdout",
          "output_type": "stream",
          "text": [
            "Model: \"model_1\"\n",
            "__________________________________________________________________________________________________\n",
            "Layer (type)                    Output Shape         Param #     Connected to                     \n",
            "==================================================================================================\n",
            "input_2 (InputLayer)            [(None, 256, 5)]     0                                            \n",
            "__________________________________________________________________________________________________\n",
            "time2_vector_1 (Time2Vector)    (None, 256, 2)       1024        input_2[0][0]                    \n",
            "__________________________________________________________________________________________________\n",
            "concatenate_1 (Concatenate)     (None, 256, 7)       0           input_2[0][0]                    \n",
            "                                                                 time2_vector_1[0][0]             \n",
            "__________________________________________________________________________________________________\n",
            "layer_normalization_3 (LayerNor (None, 256, 7)       14          concatenate_1[0][0]              \n",
            "__________________________________________________________________________________________________\n",
            "layer_normalization_2 (LayerNor (None, 256, 7)       14          layer_normalization_3[0][0]      \n",
            "                                                                 transformer_encoder_3[0][0]      \n",
            "                                                                 transformer_encoder_4[0][0]      \n",
            "                                                                 transformer_encoder_5[0][0]      \n",
            "__________________________________________________________________________________________________\n",
            "transformer_encoder_3 (Transfor (None, 256, 7)       101546      layer_normalization_2[0][0]      \n",
            "                                                                 layer_normalization_2[0][0]      \n",
            "                                                                 layer_normalization_2[0][0]      \n",
            "__________________________________________________________________________________________________\n",
            "transformer_encoder_4 (Transfor (None, 256, 7)       101546      layer_normalization_2[1][0]      \n",
            "                                                                 layer_normalization_2[1][0]      \n",
            "                                                                 layer_normalization_2[1][0]      \n",
            "__________________________________________________________________________________________________\n",
            "transformer_encoder_5 (Transfor (None, 256, 7)       101546      layer_normalization_2[2][0]      \n",
            "                                                                 layer_normalization_2[2][0]      \n",
            "                                                                 layer_normalization_2[2][0]      \n",
            "__________________________________________________________________________________________________\n",
            "global_average_pooling1d_1 (Glo (None, 256)          0           layer_normalization_2[3][0]      \n",
            "__________________________________________________________________________________________________\n",
            "dropout_2 (Dropout)             (None, 256)          0           global_average_pooling1d_1[0][0] \n",
            "__________________________________________________________________________________________________\n",
            "dense_2 (Dense)                 (None, 64)           16448       dropout_2[0][0]                  \n",
            "__________________________________________________________________________________________________\n",
            "dropout_3 (Dropout)             (None, 64)           0           dense_2[0][0]                    \n",
            "__________________________________________________________________________________________________\n",
            "dense_3 (Dense)                 (None, 1)            65          dropout_3[0][0]                  \n",
            "==================================================================================================\n",
            "Total params: 322,203\n",
            "Trainable params: 322,203\n",
            "Non-trainable params: 0\n",
            "__________________________________________________________________________________________________\n"
          ]
        }
      ],
      "source": [
        "def create_model():\n",
        "  '''Initialize time and transformer layers'''\n",
        "  time_embedding = Time2Vector(seq_len)\n",
        "  attn_layer1 = TransformerEncoder(d_k, d_v, n_heads, ff_dim)\n",
        "  attn_layer2 = TransformerEncoder(d_k, d_v, n_heads, ff_dim)\n",
        "  attn_layer3 = TransformerEncoder(d_k, d_v, n_heads, ff_dim)\n",
        "  normall = LayerNormalization(axis=2)\n",
        "  normal_first = LayerNormalization(axis=-1)\n",
        "  # input_shape = (2,seq_len,7)\n",
        "  '''Construct model'''\n",
        "  in_seq = Input(shape=(seq_len, 5))\n",
        "  x = time_embedding(in_seq)\n",
        "  x = Concatenate(axis=-1)([in_seq, x])\n",
        "  x = normal_first(x)\n",
        "  x = normall(x)\n",
        "  x = attn_layer1((x, x, x))\n",
        "  \n",
        "  x = normall(x)\n",
        "  # x = sce2(x)\n",
        "  # print(x.shape)\n",
        "  x = attn_layer2((x, x, x))\n",
        "  x = normall(x)\n",
        "  # x = sce2(x)\n",
        "  x = attn_layer3((x, x, x))\n",
        "  \n",
        "  x = normall(x)\n",
        "  x = GlobalAveragePooling1D(data_format='channels_first')(x)\n",
        "  x = Dropout(0.1)(x)\n",
        "  x = Dense(64, activation='relu')(x)\n",
        "  x = Dropout(0.1)(x)\n",
        "  out = Dense(1, activation='linear')(x)\n",
        "\n",
        "  model = Model(inputs=in_seq, outputs=out)\n",
        "  model.compile(loss='mse', optimizer='adam', metrics=['mae', 'mape'])\n",
        "  return model\n",
        "\n",
        "\n",
        "model = create_model()\n",
        "model.summary()\n",
        "\n",
        "callback = tf.keras.callbacks.ModelCheckpoint('./Transformer+TimeEmbedding_sz.hdf5', \n",
        "                                              monitor='val_loss', \n",
        "                                              save_best_only=True, \n",
        "                                              verbose=1)\n",
        "\n",
        "# callback = tf.keras.callbacks.ModelCheckpoint('Transformer+TimeEmbedding.hdf5', \n",
        "#                                               monitor='mae', \n",
        "#                                               save_best_only=False, verbose=1)\n",
        "\n"
      ]
    },
    {
      "cell_type": "code",
      "execution_count": 67,
      "metadata": {},
      "outputs": [
        {
          "name": "stdout",
          "output_type": "stream",
          "text": [
            "Epoch 1/300\n",
            "30/30 [==============================] - ETA: 0s - loss: 0.1710 - mae: 0.3323 - mape: 47.7086\n",
            "Epoch 00001: val_loss improved from inf to 0.01217, saving model to ./Transformer+TimeEmbedding_sz.hdf5\n",
            "30/30 [==============================] - 112s 4s/step - loss: 0.1710 - mae: 0.3323 - mape: 47.7086 - val_loss: 0.0122 - val_mae: 0.1012 - val_mape: 13.8076\n",
            "Epoch 2/300\n",
            " 8/30 [=======>......................] - ETA: 1:00 - loss: 0.0130 - mae: 0.0884 - mape: 16.5584"
          ]
        },
        {
          "ename": "KeyboardInterrupt",
          "evalue": "",
          "output_type": "error",
          "traceback": [
            "\u001b[0;31m---------------------------------------------------------------------------\u001b[0m",
            "\u001b[0;31mKeyboardInterrupt\u001b[0m                         Traceback (most recent call last)",
            "\u001b[0;32m/tmp/ipykernel_4991/2790311191.py\u001b[0m in \u001b[0;36m<module>\u001b[0;34m\u001b[0m\n\u001b[1;32m      3\u001b[0m                     \u001b[0mepochs\u001b[0m\u001b[0;34m=\u001b[0m\u001b[0;36m300\u001b[0m\u001b[0;34m,\u001b[0m\u001b[0;34m\u001b[0m\u001b[0;34m\u001b[0m\u001b[0m\n\u001b[1;32m      4\u001b[0m                     \u001b[0mcallbacks\u001b[0m\u001b[0;34m=\u001b[0m\u001b[0;34m[\u001b[0m\u001b[0mcallback\u001b[0m\u001b[0;34m]\u001b[0m\u001b[0;34m,\u001b[0m\u001b[0;34m\u001b[0m\u001b[0;34m\u001b[0m\u001b[0m\n\u001b[0;32m----> 5\u001b[0;31m                     validation_data=(X_val, y_val))\n\u001b[0m\u001b[1;32m      6\u001b[0m \u001b[0;34m\u001b[0m\u001b[0m\n",
            "\u001b[0;32m~/anaconda3/envs/oscar/lib/python3.7/site-packages/tensorflow/python/keras/engine/training.py\u001b[0m in \u001b[0;36m_method_wrapper\u001b[0;34m(self, *args, **kwargs)\u001b[0m\n\u001b[1;32m     64\u001b[0m   \u001b[0;32mdef\u001b[0m \u001b[0m_method_wrapper\u001b[0m\u001b[0;34m(\u001b[0m\u001b[0mself\u001b[0m\u001b[0;34m,\u001b[0m \u001b[0;34m*\u001b[0m\u001b[0margs\u001b[0m\u001b[0;34m,\u001b[0m \u001b[0;34m**\u001b[0m\u001b[0mkwargs\u001b[0m\u001b[0;34m)\u001b[0m\u001b[0;34m:\u001b[0m\u001b[0;34m\u001b[0m\u001b[0;34m\u001b[0m\u001b[0m\n\u001b[1;32m     65\u001b[0m     \u001b[0;32mif\u001b[0m \u001b[0;32mnot\u001b[0m \u001b[0mself\u001b[0m\u001b[0;34m.\u001b[0m\u001b[0m_in_multi_worker_mode\u001b[0m\u001b[0;34m(\u001b[0m\u001b[0;34m)\u001b[0m\u001b[0;34m:\u001b[0m  \u001b[0;31m# pylint: disable=protected-access\u001b[0m\u001b[0;34m\u001b[0m\u001b[0;34m\u001b[0m\u001b[0m\n\u001b[0;32m---> 66\u001b[0;31m       \u001b[0;32mreturn\u001b[0m \u001b[0mmethod\u001b[0m\u001b[0;34m(\u001b[0m\u001b[0mself\u001b[0m\u001b[0;34m,\u001b[0m \u001b[0;34m*\u001b[0m\u001b[0margs\u001b[0m\u001b[0;34m,\u001b[0m \u001b[0;34m**\u001b[0m\u001b[0mkwargs\u001b[0m\u001b[0;34m)\u001b[0m\u001b[0;34m\u001b[0m\u001b[0;34m\u001b[0m\u001b[0m\n\u001b[0m\u001b[1;32m     67\u001b[0m \u001b[0;34m\u001b[0m\u001b[0m\n\u001b[1;32m     68\u001b[0m     \u001b[0;31m# Running inside `run_distribute_coordinator` already.\u001b[0m\u001b[0;34m\u001b[0m\u001b[0;34m\u001b[0m\u001b[0;34m\u001b[0m\u001b[0m\n",
            "\u001b[0;32m~/anaconda3/envs/oscar/lib/python3.7/site-packages/tensorflow/python/keras/engine/training.py\u001b[0m in \u001b[0;36mfit\u001b[0;34m(self, x, y, batch_size, epochs, verbose, callbacks, validation_split, validation_data, shuffle, class_weight, sample_weight, initial_epoch, steps_per_epoch, validation_steps, validation_batch_size, validation_freq, max_queue_size, workers, use_multiprocessing)\u001b[0m\n\u001b[1;32m    846\u001b[0m                 batch_size=batch_size):\n\u001b[1;32m    847\u001b[0m               \u001b[0mcallbacks\u001b[0m\u001b[0;34m.\u001b[0m\u001b[0mon_train_batch_begin\u001b[0m\u001b[0;34m(\u001b[0m\u001b[0mstep\u001b[0m\u001b[0;34m)\u001b[0m\u001b[0;34m\u001b[0m\u001b[0;34m\u001b[0m\u001b[0m\n\u001b[0;32m--> 848\u001b[0;31m               \u001b[0mtmp_logs\u001b[0m \u001b[0;34m=\u001b[0m \u001b[0mtrain_function\u001b[0m\u001b[0;34m(\u001b[0m\u001b[0miterator\u001b[0m\u001b[0;34m)\u001b[0m\u001b[0;34m\u001b[0m\u001b[0;34m\u001b[0m\u001b[0m\n\u001b[0m\u001b[1;32m    849\u001b[0m               \u001b[0;31m# Catch OutOfRangeError for Datasets of unknown size.\u001b[0m\u001b[0;34m\u001b[0m\u001b[0;34m\u001b[0m\u001b[0;34m\u001b[0m\u001b[0m\n\u001b[1;32m    850\u001b[0m               \u001b[0;31m# This blocks until the batch has finished executing.\u001b[0m\u001b[0;34m\u001b[0m\u001b[0;34m\u001b[0m\u001b[0;34m\u001b[0m\u001b[0m\n",
            "\u001b[0;32m~/anaconda3/envs/oscar/lib/python3.7/site-packages/tensorflow/python/eager/def_function.py\u001b[0m in \u001b[0;36m__call__\u001b[0;34m(self, *args, **kwds)\u001b[0m\n\u001b[1;32m    578\u001b[0m         \u001b[0mxla_context\u001b[0m\u001b[0;34m.\u001b[0m\u001b[0mExit\u001b[0m\u001b[0;34m(\u001b[0m\u001b[0;34m)\u001b[0m\u001b[0;34m\u001b[0m\u001b[0;34m\u001b[0m\u001b[0m\n\u001b[1;32m    579\u001b[0m     \u001b[0;32melse\u001b[0m\u001b[0;34m:\u001b[0m\u001b[0;34m\u001b[0m\u001b[0;34m\u001b[0m\u001b[0m\n\u001b[0;32m--> 580\u001b[0;31m       \u001b[0mresult\u001b[0m \u001b[0;34m=\u001b[0m \u001b[0mself\u001b[0m\u001b[0;34m.\u001b[0m\u001b[0m_call\u001b[0m\u001b[0;34m(\u001b[0m\u001b[0;34m*\u001b[0m\u001b[0margs\u001b[0m\u001b[0;34m,\u001b[0m \u001b[0;34m**\u001b[0m\u001b[0mkwds\u001b[0m\u001b[0;34m)\u001b[0m\u001b[0;34m\u001b[0m\u001b[0;34m\u001b[0m\u001b[0m\n\u001b[0m\u001b[1;32m    581\u001b[0m \u001b[0;34m\u001b[0m\u001b[0m\n\u001b[1;32m    582\u001b[0m     \u001b[0;32mif\u001b[0m \u001b[0mtracing_count\u001b[0m \u001b[0;34m==\u001b[0m \u001b[0mself\u001b[0m\u001b[0;34m.\u001b[0m\u001b[0m_get_tracing_count\u001b[0m\u001b[0;34m(\u001b[0m\u001b[0;34m)\u001b[0m\u001b[0;34m:\u001b[0m\u001b[0;34m\u001b[0m\u001b[0;34m\u001b[0m\u001b[0m\n",
            "\u001b[0;32m~/anaconda3/envs/oscar/lib/python3.7/site-packages/tensorflow/python/eager/def_function.py\u001b[0m in \u001b[0;36m_call\u001b[0;34m(self, *args, **kwds)\u001b[0m\n\u001b[1;32m    609\u001b[0m       \u001b[0;31m# In this case we have created variables on the first call, so we run the\u001b[0m\u001b[0;34m\u001b[0m\u001b[0;34m\u001b[0m\u001b[0;34m\u001b[0m\u001b[0m\n\u001b[1;32m    610\u001b[0m       \u001b[0;31m# defunned version which is guaranteed to never create variables.\u001b[0m\u001b[0;34m\u001b[0m\u001b[0;34m\u001b[0m\u001b[0;34m\u001b[0m\u001b[0m\n\u001b[0;32m--> 611\u001b[0;31m       \u001b[0;32mreturn\u001b[0m \u001b[0mself\u001b[0m\u001b[0;34m.\u001b[0m\u001b[0m_stateless_fn\u001b[0m\u001b[0;34m(\u001b[0m\u001b[0;34m*\u001b[0m\u001b[0margs\u001b[0m\u001b[0;34m,\u001b[0m \u001b[0;34m**\u001b[0m\u001b[0mkwds\u001b[0m\u001b[0;34m)\u001b[0m  \u001b[0;31m# pylint: disable=not-callable\u001b[0m\u001b[0;34m\u001b[0m\u001b[0;34m\u001b[0m\u001b[0m\n\u001b[0m\u001b[1;32m    612\u001b[0m     \u001b[0;32melif\u001b[0m \u001b[0mself\u001b[0m\u001b[0;34m.\u001b[0m\u001b[0m_stateful_fn\u001b[0m \u001b[0;32mis\u001b[0m \u001b[0;32mnot\u001b[0m \u001b[0;32mNone\u001b[0m\u001b[0;34m:\u001b[0m\u001b[0;34m\u001b[0m\u001b[0;34m\u001b[0m\u001b[0m\n\u001b[1;32m    613\u001b[0m       \u001b[0;31m# Release the lock early so that multiple threads can perform the call\u001b[0m\u001b[0;34m\u001b[0m\u001b[0;34m\u001b[0m\u001b[0;34m\u001b[0m\u001b[0m\n",
            "\u001b[0;32m~/anaconda3/envs/oscar/lib/python3.7/site-packages/tensorflow/python/eager/function.py\u001b[0m in \u001b[0;36m__call__\u001b[0;34m(self, *args, **kwargs)\u001b[0m\n\u001b[1;32m   2418\u001b[0m     \u001b[0;32mwith\u001b[0m \u001b[0mself\u001b[0m\u001b[0;34m.\u001b[0m\u001b[0m_lock\u001b[0m\u001b[0;34m:\u001b[0m\u001b[0;34m\u001b[0m\u001b[0;34m\u001b[0m\u001b[0m\n\u001b[1;32m   2419\u001b[0m       \u001b[0mgraph_function\u001b[0m\u001b[0;34m,\u001b[0m \u001b[0margs\u001b[0m\u001b[0;34m,\u001b[0m \u001b[0mkwargs\u001b[0m \u001b[0;34m=\u001b[0m \u001b[0mself\u001b[0m\u001b[0;34m.\u001b[0m\u001b[0m_maybe_define_function\u001b[0m\u001b[0;34m(\u001b[0m\u001b[0margs\u001b[0m\u001b[0;34m,\u001b[0m \u001b[0mkwargs\u001b[0m\u001b[0;34m)\u001b[0m\u001b[0;34m\u001b[0m\u001b[0;34m\u001b[0m\u001b[0m\n\u001b[0;32m-> 2420\u001b[0;31m     \u001b[0;32mreturn\u001b[0m \u001b[0mgraph_function\u001b[0m\u001b[0;34m.\u001b[0m\u001b[0m_filtered_call\u001b[0m\u001b[0;34m(\u001b[0m\u001b[0margs\u001b[0m\u001b[0;34m,\u001b[0m \u001b[0mkwargs\u001b[0m\u001b[0;34m)\u001b[0m  \u001b[0;31m# pylint: disable=protected-access\u001b[0m\u001b[0;34m\u001b[0m\u001b[0;34m\u001b[0m\u001b[0m\n\u001b[0m\u001b[1;32m   2421\u001b[0m \u001b[0;34m\u001b[0m\u001b[0m\n\u001b[1;32m   2422\u001b[0m   \u001b[0;34m@\u001b[0m\u001b[0mproperty\u001b[0m\u001b[0;34m\u001b[0m\u001b[0;34m\u001b[0m\u001b[0m\n",
            "\u001b[0;32m~/anaconda3/envs/oscar/lib/python3.7/site-packages/tensorflow/python/eager/function.py\u001b[0m in \u001b[0;36m_filtered_call\u001b[0;34m(self, args, kwargs)\u001b[0m\n\u001b[1;32m   1663\u001b[0m          if isinstance(t, (ops.Tensor,\n\u001b[1;32m   1664\u001b[0m                            resource_variable_ops.BaseResourceVariable))),\n\u001b[0;32m-> 1665\u001b[0;31m         self.captured_inputs)\n\u001b[0m\u001b[1;32m   1666\u001b[0m \u001b[0;34m\u001b[0m\u001b[0m\n\u001b[1;32m   1667\u001b[0m   \u001b[0;32mdef\u001b[0m \u001b[0m_call_flat\u001b[0m\u001b[0;34m(\u001b[0m\u001b[0mself\u001b[0m\u001b[0;34m,\u001b[0m \u001b[0margs\u001b[0m\u001b[0;34m,\u001b[0m \u001b[0mcaptured_inputs\u001b[0m\u001b[0;34m,\u001b[0m \u001b[0mcancellation_manager\u001b[0m\u001b[0;34m=\u001b[0m\u001b[0;32mNone\u001b[0m\u001b[0;34m)\u001b[0m\u001b[0;34m:\u001b[0m\u001b[0;34m\u001b[0m\u001b[0;34m\u001b[0m\u001b[0m\n",
            "\u001b[0;32m~/anaconda3/envs/oscar/lib/python3.7/site-packages/tensorflow/python/eager/function.py\u001b[0m in \u001b[0;36m_call_flat\u001b[0;34m(self, args, captured_inputs, cancellation_manager)\u001b[0m\n\u001b[1;32m   1744\u001b[0m       \u001b[0;31m# No tape is watching; skip to running the function.\u001b[0m\u001b[0;34m\u001b[0m\u001b[0;34m\u001b[0m\u001b[0;34m\u001b[0m\u001b[0m\n\u001b[1;32m   1745\u001b[0m       return self._build_call_outputs(self._inference_function.call(\n\u001b[0;32m-> 1746\u001b[0;31m           ctx, args, cancellation_manager=cancellation_manager))\n\u001b[0m\u001b[1;32m   1747\u001b[0m     forward_backward = self._select_forward_and_backward_functions(\n\u001b[1;32m   1748\u001b[0m         \u001b[0margs\u001b[0m\u001b[0;34m,\u001b[0m\u001b[0;34m\u001b[0m\u001b[0;34m\u001b[0m\u001b[0m\n",
            "\u001b[0;32m~/anaconda3/envs/oscar/lib/python3.7/site-packages/tensorflow/python/eager/function.py\u001b[0m in \u001b[0;36mcall\u001b[0;34m(self, ctx, args, cancellation_manager)\u001b[0m\n\u001b[1;32m    596\u001b[0m               \u001b[0minputs\u001b[0m\u001b[0;34m=\u001b[0m\u001b[0margs\u001b[0m\u001b[0;34m,\u001b[0m\u001b[0;34m\u001b[0m\u001b[0;34m\u001b[0m\u001b[0m\n\u001b[1;32m    597\u001b[0m               \u001b[0mattrs\u001b[0m\u001b[0;34m=\u001b[0m\u001b[0mattrs\u001b[0m\u001b[0;34m,\u001b[0m\u001b[0;34m\u001b[0m\u001b[0;34m\u001b[0m\u001b[0m\n\u001b[0;32m--> 598\u001b[0;31m               ctx=ctx)\n\u001b[0m\u001b[1;32m    599\u001b[0m         \u001b[0;32melse\u001b[0m\u001b[0;34m:\u001b[0m\u001b[0;34m\u001b[0m\u001b[0;34m\u001b[0m\u001b[0m\n\u001b[1;32m    600\u001b[0m           outputs = execute.execute_with_cancellation(\n",
            "\u001b[0;32m~/anaconda3/envs/oscar/lib/python3.7/site-packages/tensorflow/python/eager/execute.py\u001b[0m in \u001b[0;36mquick_execute\u001b[0;34m(op_name, num_outputs, inputs, attrs, ctx, name)\u001b[0m\n\u001b[1;32m     58\u001b[0m     \u001b[0mctx\u001b[0m\u001b[0;34m.\u001b[0m\u001b[0mensure_initialized\u001b[0m\u001b[0;34m(\u001b[0m\u001b[0;34m)\u001b[0m\u001b[0;34m\u001b[0m\u001b[0;34m\u001b[0m\u001b[0m\n\u001b[1;32m     59\u001b[0m     tensors = pywrap_tfe.TFE_Py_Execute(ctx._handle, device_name, op_name,\n\u001b[0;32m---> 60\u001b[0;31m                                         inputs, attrs, num_outputs)\n\u001b[0m\u001b[1;32m     61\u001b[0m   \u001b[0;32mexcept\u001b[0m \u001b[0mcore\u001b[0m\u001b[0;34m.\u001b[0m\u001b[0m_NotOkStatusException\u001b[0m \u001b[0;32mas\u001b[0m \u001b[0me\u001b[0m\u001b[0;34m:\u001b[0m\u001b[0;34m\u001b[0m\u001b[0;34m\u001b[0m\u001b[0m\n\u001b[1;32m     62\u001b[0m     \u001b[0;32mif\u001b[0m \u001b[0mname\u001b[0m \u001b[0;32mis\u001b[0m \u001b[0;32mnot\u001b[0m \u001b[0;32mNone\u001b[0m\u001b[0;34m:\u001b[0m\u001b[0;34m\u001b[0m\u001b[0;34m\u001b[0m\u001b[0m\n",
            "\u001b[0;31mKeyboardInterrupt\u001b[0m: "
          ]
        }
      ],
      "source": [
        "history = model.fit(X_train, y_train,\n",
        "                    batch_size=batch_size, \n",
        "                    epochs=300,\n",
        "                    callbacks=[callback],\n",
        "                    validation_data=(X_val, y_val))\n",
        "\n"
      ]
    },
    {
      "cell_type": "code",
      "execution_count": null,
      "metadata": {},
      "outputs": [],
      "source": [
        "model = tf.keras.models.load_model('./Transformer+TimeEmbedding_sz.hdf5',\n",
        "                                   custom_objects={'Time2Vector': Time2Vector, \n",
        "                                                   'SingleAttention': SingleAttention,\n",
        "                                                   'MultiAttention': MultiAttention,\n",
        "                                                   'TransformerEncoder': TransformerEncoder})\n",
        "\n",
        "\n",
        "###############################################################################\n",
        "'''Calculate predictions and metrics'''\n",
        "\n",
        "#Calculate predication for training, validation and test data\n",
        "train_pred = model.predict(X_train)\n",
        "val_pred = model.predict(X_val)\n",
        "test_pred = model.predict(X_test)\n",
        "\n",
        "#Print evaluation metrics for all datasets\n",
        "train_eval = model.evaluate(X_train, y_train, verbose=0)\n",
        "val_eval = model.evaluate(X_val, y_val, verbose=0)\n",
        "test_eval = model.evaluate(X_test, y_test, verbose=0)\n",
        "print(' ')\n",
        "print('Evaluation metrics')\n",
        "print('Training Data - Loss: {:.4f}, MAE: {:.4f}, MAPE: {:.4f}'.format(train_eval[0], train_eval[1], train_eval[2]))\n",
        "print('Validation Data - Loss: {:.4f}, MAE: {:.4f}, MAPE: {:.4f}'.format(val_eval[0], val_eval[1], val_eval[2]))\n",
        "print('Test Data - Loss: {:.4f}, MAE: {:.4f}, MAPE: {:.4f}'.format(test_eval[0], test_eval[1], test_eval[2]))"
      ]
    },
    {
      "cell_type": "code",
      "execution_count": null,
      "metadata": {},
      "outputs": [],
      "source": [
        "y_train.shape[0]"
      ]
    },
    {
      "cell_type": "code",
      "execution_count": null,
      "metadata": {},
      "outputs": [],
      "source": [
        "'''Display results'''\n",
        "\n",
        "fig = plt.figure(figsize=(15,20))\n",
        "st = fig.suptitle(\"Transformer + TimeEmbedding Model\", fontsize=22)\n",
        "st.set_y(0.92)\n",
        "\n",
        "#Plot training data results\n",
        "ax11 = fig.add_subplot(311)\n",
        "ax11.plot(train_data[:, 3], label='Tesla Closing Returns')\n",
        "ax11.plot(np.arange(seq_len, train_pred.shape[0]+seq_len), train_pred, linewidth=3, label='Predicted Tesla Closing Returns')\n",
        "ax11.set_title(\"Training Data\", fontsize=18)\n",
        "ax11.set_xlabel('Date')\n",
        "ax11.set_ylabel('Tesla Closing Returns')\n",
        "ax11.legend(loc=\"best\", fontsize=12)\n",
        "\n",
        "#Plot validation data results\n",
        "ax21 = fig.add_subplot(312)\n",
        "ax21.plot(val_data[:, 3], label='Tesla Closing Returns')\n",
        "ax21.plot(np.arange(seq_len, val_pred.shape[0]+seq_len), val_pred, linewidth=3, label='Predicted Tesla Closing Returns')\n",
        "ax21.set_title(\"Validation Data\", fontsize=18)\n",
        "ax21.set_xlabel('Date')\n",
        "ax21.set_ylabel('Tesla Closing Returns')\n",
        "ax21.legend(loc=\"best\", fontsize=12)\n",
        "\n",
        "#Plot test data results\n",
        "ax31 = fig.add_subplot(313)\n",
        "ax31.plot(test_data[:, 3], label='Tesla Closing Returns')\n",
        "ax31.plot(np.arange(seq_len, test_pred.shape[0]+seq_len), test_pred, linewidth=3, label='Predicted Tesla Closing Returns')\n",
        "ax31.set_title(\"Test Data\", fontsize=18)\n",
        "ax31.set_xlabel('Date')\n",
        "ax31.set_ylabel('Tesla Closing Returns')\n",
        "ax31.legend(loc=\"best\", fontsize=12)"
      ]
    },
    {
      "cell_type": "markdown",
      "metadata": {
        "id": "rQxwsG_AT_gm"
      },
      "source": [
        "## Moving Average - Model metrics"
      ]
    },
    {
      "cell_type": "code",
      "execution_count": null,
      "metadata": {},
      "outputs": [],
      "source": []
    },
    {
      "cell_type": "code",
      "execution_count": null,
      "metadata": {},
      "outputs": [],
      "source": [
        "y_test[-1],test_pred[-1]"
      ]
    },
    {
      "cell_type": "code",
      "execution_count": null,
      "metadata": {},
      "outputs": [],
      "source": [
        "250-128"
      ]
    },
    {
      "cell_type": "code",
      "execution_count": null,
      "metadata": {},
      "outputs": [],
      "source": [
        "y_train.size"
      ]
    },
    {
      "cell_type": "code",
      "execution_count": null,
      "metadata": {},
      "outputs": [],
      "source": [
        "y_test.size"
      ]
    },
    {
      "cell_type": "code",
      "execution_count": null,
      "metadata": {},
      "outputs": [],
      "source": [
        "def calculate_accuracy(real, predict):\n",
        "    real = np.array(real) + 1\n",
        "    predict = np.array(predict) + 1\n",
        "    percentage = 1 - np.sqrt(np.mean(np.square((real - predict) / real)))\n",
        "    return percentage * 100\n",
        "accuracies = [calculate_accuracy(df['Close'].iloc[-y_test.size:].values, r) for r in test_pred]\n",
        "plt.figure(figsize = (15, 5))\n",
        "plt.plot(test_pred[:y_test.size], label = 'forecast')\n",
        "plt.plot(df['Close'].iloc[:y_test.size].values, label = 'true trend', c = 'black')\n",
        "plt.legend()\n",
        "plt.title('average accuracy: %.4f'%(np.mean(accuracies)))\n",
        "plt.show()"
      ]
    },
    {
      "cell_type": "code",
      "execution_count": null,
      "metadata": {
        "colab": {
          "base_uri": "https://localhost:8080/",
          "height": 1000
        },
        "id": "UCNT45C_TjsT",
        "outputId": "593aec95-a2c2-4f0d-8845-70d5ee3a74a3"
      },
      "outputs": [],
      "source": [
        "'''Display model metrics'''\n",
        "\n",
        "fig = plt.figure(figsize=(15,20))\n",
        "st = fig.suptitle(\"Moving Average - Transformer + TimeEmbedding Model Metrics\", fontsize=22)\n",
        "st.set_y(0.92)\n",
        "\n",
        "#Plot model loss\n",
        "ax1 = fig.add_subplot(311)\n",
        "ax1.plot(history.history['loss'], label='Training loss (MSE)')\n",
        "ax1.plot(history.history['val_loss'], label='Validation loss (MSE)')\n",
        "ax1.set_title(\"Model loss\", fontsize=18)\n",
        "ax1.set_xlabel('Epoch')\n",
        "ax1.set_ylabel('Loss (MSE)')\n",
        "ax1.legend(loc=\"best\", fontsize=12)\n",
        "\n",
        "#Plot MAE\n",
        "ax2 = fig.add_subplot(312)\n",
        "ax2.plot(history.history['mae'], label='Training MAE')\n",
        "ax2.plot(history.history['val_mae'], label='Validation MAE')\n",
        "ax2.set_title(\"Model metric - Mean average error (MAE)\", fontsize=18)\n",
        "ax2.set_xlabel('Epoch')\n",
        "ax2.set_ylabel('Mean average error (MAE)')\n",
        "ax2.legend(loc=\"best\", fontsize=12)\n",
        "\n",
        "#Plot MAPE\n",
        "ax3 = fig.add_subplot(313)\n",
        "ax3.plot(history.history['mape'], label='Training MAPE')\n",
        "ax3.plot(history.history['val_mape'], label='Validation MAPE')\n",
        "ax3.set_title(\"Model metric - Mean average percentage error (MAPE)\", fontsize=18)\n",
        "ax3.set_xlabel('Epoch')\n",
        "ax3.set_ylabel('Mean average percentage error (MAPE)')\n",
        "ax3.legend(loc=\"best\", fontsize=12)"
      ]
    },
    {
      "cell_type": "code",
      "execution_count": null,
      "metadata": {
        "id": "pNvUgwyfTjl0"
      },
      "outputs": [],
      "source": []
    },
    {
      "cell_type": "code",
      "execution_count": null,
      "metadata": {},
      "outputs": [],
      "source": []
    }
  ],
  "metadata": {
    "colab": {
      "collapsed_sections": [],
      "name": "IBM_Transformer+TimeEmbedding_Github.ipynb",
      "provenance": []
    },
    "kernelspec": {
      "display_name": "Python 3",
      "name": "python3"
    },
    "language_info": {
      "codemirror_mode": {
        "name": "ipython",
        "version": 3
      },
      "file_extension": ".py",
      "mimetype": "text/x-python",
      "name": "python",
      "nbconvert_exporter": "python",
      "pygments_lexer": "ipython3",
      "version": "3.7.11"
    }
  },
  "nbformat": 4,
  "nbformat_minor": 0
}
